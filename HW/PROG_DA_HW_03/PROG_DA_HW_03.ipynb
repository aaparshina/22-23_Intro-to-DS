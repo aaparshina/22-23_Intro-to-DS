{
  "nbformat": 4,
  "nbformat_minor": 0,
  "metadata": {
    "colab": {
      "provenance": []
    },
    "kernelspec": {
      "name": "python3",
      "display_name": "Python 3"
    },
    "language_info": {
      "name": "python"
    }
  },
  "cells": [
    {
      "cell_type": "markdown",
      "source": [
        "#**Домашнее Задание \"Проверка гипотез\"**"
      ],
      "metadata": {
        "id": "TbKSurPoOef3"
      }
    },
    {
      "cell_type": "markdown",
      "source": [
        "**Общие моменты:**\n",
        "\n",
        "- Обязательно гуглите всю необходимую информацию. Вы можете использовать прочие (которые не упоминались на занятиях) методы и алгоритмы для решения задач, но при условии, что Вы сможете их объяснить. Если Вы нашли какой-то интересный способ решения, то нужно в комментарий добавить ссылку на источник.\n",
        "\n",
        "- Списывать/плагиатить строго запрещено. Можно использовать готовые решения из интернета только в случае, если Вы укажите ссылку на источник. И поясните, почему лучше так, а не каким-то стандартным (рекомендуемым) способом.\n",
        "\n",
        "- Желательно (но не обязательно) указывать комментарии в Вашем решении. Это и Вам поможет понять, что Вы делаете. И также это поможет преверяющему в случае вопросов.\n",
        "\n",
        "- Технологии типа ChatGPT не использовать.\n",
        "\n",
        "- В случае каких-то вопросов или спорных ситуаций (например, после получения результатов дз), обращайтесь к ассистенту/преподавателю. И лучше пишите какие-то комментарии к своему коду, чтобы спорных ситуаций было как можно меньше.\n",
        "\n",
        "- Каждая из задач имеет определенную «стоимость» (указана в скобках около задачи). Максимально допустимая оценка за работу — 10 баллов (+ бонус). Проверяющий имеет право снизить оценку за неэффективную реализацию или неопрятные графики.\n",
        "\n",
        "- Сдавать ДЗ в SmartLMS!\n",
        "\n",
        "**Успехов!**"
      ],
      "metadata": {
        "id": "-HLX5537Quvc"
      }
    },
    {
      "cell_type": "markdown",
      "source": [
        "# **Параметрические критерии**"
      ],
      "metadata": {
        "id": "U2ZxaptQRZ7-"
      }
    },
    {
      "cell_type": "markdown",
      "source": [
        "# Задание 1: z-test"
      ],
      "metadata": {
        "id": "PXkcZaoFShyQ"
      }
    },
    {
      "cell_type": "markdown",
      "source": [
        "Скачайте датасет Original_data_with_more_rows.csv. Он содержит данные об оценках студентов ряда университетов по 3 видам тестов. Описание данных:\n",
        "\n",
        "- Gender: Gender of the student (male/female)\n",
        "- EthnicGroup: Ethnic group of the student (group A to E)\n",
        "- ParentEduc: Parent(s) education background (from some_highschool to master's degree)\n",
        "- LunchType: School lunch type (standard or free/reduced)\n",
        "- TestPrep: Test preparation course followed (completed or none)\n",
        "- ParentMaritalStatus: Parent(s) marital status (married/single/widowed/divorced)\n",
        "- PracticeSport: How often the student parctice sport (never/sometimes/regularly))\n",
        "- IsFirstChild: If the child is first child in the family or not (yes/no)\n",
        "- NrSiblings: Number of siblings the student has (0 to 7)\n",
        "- TransportMeans: Means of transport to school (schoolbus/private)\n",
        "- WklyStudyHours: Weekly self-study hours(less that 5hrs; between 5 and 10hrs; more than 10hrs)\n",
        "- MathScore: math test score(0-100)\n",
        "- ReadingScore: reading test score(0-100)\n",
        "- WritingScore: writing test score(0-100)\n"
      ],
      "metadata": {
        "id": "7EX7SkyBE1xN"
      }
    },
    {
      "cell_type": "markdown",
      "source": [
        "Пусть мы знаем, что среднее значение такого теста для всех студентов во всех университетах - 67.5. Стандартное октлонение - 13"
      ],
      "metadata": {
        "id": "dF4CT8Y0uCGZ"
      }
    },
    {
      "cell_type": "markdown",
      "source": [
        "## a) Посчитайте z-test для среднего значения теста по математике у девушек, родители которых закончили бакалавриат. Вес - 0.5"
      ],
      "metadata": {
        "id": "F4fYNdYkGfH_"
      }
    },
    {
      "cell_type": "code",
      "source": [
        "#your code"
      ],
      "metadata": {
        "id": "OWtftJnprHy_"
      },
      "execution_count": null,
      "outputs": []
    },
    {
      "cell_type": "markdown",
      "source": [
        "## b) Посчитайте p-value для полученного значения z-теста. Значимая ли разница у приведенного выборки и генеральной совокупности? Вес - 0.5"
      ],
      "metadata": {
        "id": "RKVZnlYbG-pp"
      }
    },
    {
      "cell_type": "code",
      "source": [
        "#your code"
      ],
      "metadata": {
        "id": "Xlh6HwW-2gAm"
      },
      "execution_count": null,
      "outputs": []
    },
    {
      "cell_type": "markdown",
      "source": [
        "# Задание 2: одновыборочный t-test"
      ],
      "metadata": {
        "id": "jBQWEP75SqGC"
      }
    },
    {
      "cell_type": "markdown",
      "source": [
        "Продолжим работу с данными о тестировании студентов. Давайте поймем, помогает ли подготовка к тесту по чтению сдавать его лучше. Мы знаем, что среднее значение для генеральной совокупности - 70. Но в этот раз мы не знаем стандартного отклонения - поэтому используем t-test\n"
      ],
      "metadata": {
        "id": "GdRuccSVzyyb"
      }
    },
    {
      "cell_type": "markdown",
      "source": [
        "## 2a)  Посчитайте t-test для среднего значения теста по чтению, которые прошли подготовку к тесту. Вес - 0.5"
      ],
      "metadata": {
        "id": "ywjc6y_YJoGT"
      }
    },
    {
      "cell_type": "markdown",
      "source": [
        "Переменная TestPrep, значение completed"
      ],
      "metadata": {
        "id": "eOxR2TMzJ--0"
      }
    },
    {
      "cell_type": "code",
      "source": [
        "# your code"
      ],
      "metadata": {
        "id": "tJb6SKTsyCSX"
      },
      "execution_count": null,
      "outputs": []
    },
    {
      "cell_type": "markdown",
      "source": [
        "## 2b) Посчитайте p-value для получившегося значения и ответьте на вопрос - \"Улучшает ли подгтовка к тесту его результат?\". Вес - 0.5"
      ],
      "metadata": {
        "id": "UYG2vPh7KEk9"
      }
    },
    {
      "cell_type": "code",
      "source": [
        "# your code"
      ],
      "metadata": {
        "id": "ue_l1GYkKQUF"
      },
      "execution_count": null,
      "outputs": []
    },
    {
      "cell_type": "markdown",
      "source": [
        "# Задание 3: парный t-test"
      ],
      "metadata": {
        "id": "euINFlnsSw9-"
      }
    },
    {
      "cell_type": "markdown",
      "source": [
        "Теперь скачаем данные Islander_data.csv. Они содержат данные от приеме пациентами лекарств от тревожности разного типа и влияение их на прохождение теста на память. Описание данных:\n",
        "- first_name, last_name - имя и фамилия пациента\n",
        "- age - возраст\n",
        "- Happy_Sad_group настроение до приема препарата\n",
        "- Dosage - доза\n",
        "- Drug - препарат\n",
        "- Mem_Score_Before - результат теста до приема\n",
        "- Mem_Score_After - результат теста после приема\n",
        "- Diff - разница тестов"
      ],
      "metadata": {
        "id": "JtEi3I5m31MT"
      }
    },
    {
      "cell_type": "markdown",
      "source": [
        "## 3a) Посчитайте, какие бывают типы препаратов и в каком объеме они представлены в данных. Вес - 0.25"
      ],
      "metadata": {
        "id": "kGMECW2IL7YJ"
      }
    },
    {
      "cell_type": "code",
      "source": [
        "# your code"
      ],
      "metadata": {
        "id": "mwJJog9DL61s"
      },
      "execution_count": null,
      "outputs": []
    },
    {
      "cell_type": "markdown",
      "source": [
        "## 3b) Посчитатайте значение парного t-теста для изменение результата теста на память для каждого из видов препарата Вес - 0.75"
      ],
      "metadata": {
        "id": "yg4lt6R-LvVs"
      }
    },
    {
      "cell_type": "code",
      "source": [
        "# your code"
      ],
      "metadata": {
        "id": "qh8NPNM06GLU"
      },
      "execution_count": null,
      "outputs": []
    },
    {
      "cell_type": "markdown",
      "source": [
        "## 3c) Получите p-value  для каждого из полученных значений t-теста. Какие препараты влияют на память, а какие нет? Вес - 0.75\n"
      ],
      "metadata": {
        "id": "pFuyMnGiNnjv"
      }
    },
    {
      "cell_type": "code",
      "source": [
        "# your code"
      ],
      "metadata": {
        "id": "jimQyfy_ZM_B"
      },
      "execution_count": null,
      "outputs": []
    },
    {
      "cell_type": "markdown",
      "source": [
        "# Задание 4: двухвыборочный t-test"
      ],
      "metadata": {
        "id": "HeHyFamVS_MP"
      }
    },
    {
      "cell_type": "markdown",
      "source": [
        "Теперь представим, что вы работаете аналитиком данных в компании - разработчике игр. Загрузите данные cookie_cats.csv\n",
        "\n",
        "Ваша команда недавно на половину пользователей внедрила новое изменение в процессе игры: теперь пользователей в самом начале попадает не к воротам на 30 уровне, а к воротам на 40 уровне (что бы это не значило). \n",
        "\n",
        "Ваша задача - понять, какой эффект на бизнес это дало. Описание данных:\n",
        "- userid - id пользователя\n",
        "- version - группа пользователей: gate_30 или gate_40\n",
        "- sum_gamerounds - количество сыгранных раундов за первые 14 дней\n",
        "- retention_1 - флаг того, что пользователь вернется в игру через 1 день после скачивания\n",
        "- retention_7 - флаг того, что пользователь вернется в игру через 7 дней после скачивания"
      ],
      "metadata": {
        "id": "CKDPVANL7vwJ"
      }
    },
    {
      "cell_type": "markdown",
      "source": [
        "## 4a) Замените в колонках retention_1 и retention_7 значения True на 1, а знаечния False на 0. Вес - 0.25"
      ],
      "metadata": {
        "id": "rpJemo0JRaX3"
      }
    },
    {
      "cell_type": "markdown",
      "source": [
        "Это позволит удобнее считать вероятность возвращения"
      ],
      "metadata": {
        "id": "hwgNRIqHRsjN"
      }
    },
    {
      "cell_type": "code",
      "source": [
        "# your code"
      ],
      "metadata": {
        "id": "mUZnB6ZzRxoV"
      },
      "execution_count": null,
      "outputs": []
    },
    {
      "cell_type": "markdown",
      "source": [
        "## 4b) Посчитайте среднее по двум группам для каждой из переменных sun_gamerounds, retention_1, retention_7. Вес - 0.5"
      ],
      "metadata": {
        "id": "3Mcc4M1xR1ES"
      }
    },
    {
      "cell_type": "code",
      "source": [
        "# your code"
      ],
      "metadata": {
        "id": "6yY3vUkISSUs"
      },
      "execution_count": null,
      "outputs": []
    },
    {
      "cell_type": "markdown",
      "source": [
        "## 4с) Посчитайте двухвыборочный t-test для каждой из переменных выше. Вес - 0.5"
      ],
      "metadata": {
        "id": "w0Z8IcaRSUhk"
      }
    },
    {
      "cell_type": "code",
      "source": [
        "# your code"
      ],
      "metadata": {
        "id": "q5M1PE0fSelS"
      },
      "execution_count": null,
      "outputs": []
    },
    {
      "cell_type": "markdown",
      "source": [
        "## 4d) Посчитайте p-value для полученных значений t-теста. Как новое изменение влияет на пользователей? Вес - 0.5"
      ],
      "metadata": {
        "id": "6aCdhAV8SgQt"
      }
    },
    {
      "cell_type": "code",
      "source": [
        "# your code"
      ],
      "metadata": {
        "id": "PrrnBJ6rSuUL"
      },
      "execution_count": null,
      "outputs": []
    },
    {
      "cell_type": "markdown",
      "source": [
        "# **Непараметрические критерии**"
      ],
      "metadata": {
        "id": "z1W16JpCTFai"
      }
    },
    {
      "cell_type": "markdown",
      "source": [
        "# Задание 5: Критерий согласия хи-квадрат"
      ],
      "metadata": {
        "id": "95tPCMJWRRgd"
      }
    },
    {
      "cell_type": "markdown",
      "source": [
        "Исследуем предпочтения еды у разных национальностей. Скачайте данные Food_Preference.csv. В них приведены результаты опроса некоторой выборки людей о их вкусовых предпочтениях\n",
        "\n",
        "Описание данных:\n",
        "- Timestamp: время опроса\n",
        "- Participant_ID: id участиника\n",
        "- Gender: пол\n",
        "- Nationality: национальность\n",
        "- Age: возраст\n",
        "- Food: предпочтение по типу еды\n",
        "- Juice: предпочтение по напитакам\n",
        "- Dessert: предпочтение по дессертам"
      ],
      "metadata": {
        "id": "9jbPiRqf_Hvk"
      }
    },
    {
      "cell_type": "markdown",
      "source": [
        "## 5a) Посчитайте, какие есть национальности и в каком количестве. А также какие есть возможные варианты предпочтений в еде. Вес - 0.5 балла"
      ],
      "metadata": {
        "id": "tfUVOGGRWSuG"
      }
    },
    {
      "cell_type": "code",
      "source": [
        "# your code"
      ],
      "metadata": {
        "id": "YYx7pWUYA8r5"
      },
      "execution_count": null,
      "outputs": []
    },
    {
      "cell_type": "markdown",
      "source": [
        "## 5b) Выберите самую частую национальность. Используйте критерий согласия хи-квадрат чтобы ответить на вопрос: \"Одинаково ли эта национальность любит все типы еды?\". Вес - 1 балл"
      ],
      "metadata": {
        "id": "y4zFEdPdWyOV"
      }
    },
    {
      "cell_type": "code",
      "source": [
        "# your code"
      ],
      "metadata": {
        "id": "vrb6SWT5XL3y"
      },
      "execution_count": null,
      "outputs": []
    },
    {
      "cell_type": "markdown",
      "source": [
        "# Задание 6: Критерий независимости хи-квадрат"
      ],
      "metadata": {
        "id": "xUO0do8mTOzU"
      }
    },
    {
      "cell_type": "markdown",
      "source": [
        "## 6a) Используйте критерий независимости хи-квадрат, чтобы для той же национальности ответить на вопрос: \"Одинаковые ли вкусовые предпочтения по еде у мужчин и женщин?\". Вес - 1.5 балла"
      ],
      "metadata": {
        "id": "1vm1gpGyDX1_"
      }
    },
    {
      "cell_type": "code",
      "source": [
        "# your code"
      ],
      "metadata": {
        "id": "pYXe3D0rYUb-"
      },
      "execution_count": null,
      "outputs": []
    },
    {
      "cell_type": "markdown",
      "source": [
        "## 6b) Теперь поймите, есть ли различия в предпочтениях в дессертах у мужчин и женщин той же национальности. Также используйте хи-квадрат. Вес - 1.5 балла"
      ],
      "metadata": {
        "id": "JNJmYih5YXqf"
      }
    },
    {
      "cell_type": "code",
      "source": [
        "# your code"
      ],
      "metadata": {
        "id": "sYn-Cc3_YY1j"
      },
      "execution_count": null,
      "outputs": []
    }
  ]
}