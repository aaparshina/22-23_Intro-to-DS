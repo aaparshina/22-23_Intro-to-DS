{
 "cells": [
  {
   "cell_type": "markdown",
   "id": "2b58de3d",
   "metadata": {
    "id": "2b58de3d"
   },
   "source": [
    "#Логистическая регрессия\n"
   ]
  },
  {
   "cell_type": "markdown",
   "id": "ca1c2b92",
   "metadata": {
    "id": "ca1c2b92"
   },
   "source": [
    "### Модель логистической регрессии"
   ]
  },
  {
   "cell_type": "markdown",
   "id": "6787830b",
   "metadata": {
    "id": "6787830b"
   },
   "source": [
    "Допустим мы решаем задачу бинарной классификации, в которой целевая переменная принимает два значения: -1 и +1 (это может быть что угодно, например: -1 - человеку не выдали кредит, +1 - человеку выдали кредит; или например: -1 - животное, которое мы рассматриваем - кошка, +1 - животное - собака, главное, что у нас всего 2 класса). Решать такую задачу будем так: давайте предсказывать, с какой вероятностью объект принадлежит к положительному классу. \n",
    "\n",
    "Допустим у нас есть линейная модель вида:\n",
    "\n",
    "$$y = w_0 + w_1x_1 + w_2x_2 + ... + w_nx_n = w_0 + \\sum_{i=1}^n w_ix_i$$\n",
    "\n",
    "Где $x = x_1, ..., x_n$ - признаки, с которыми работает модель (считаем, что их $n$ штук).\n",
    "\n",
    "Как же по ней предсказать вероятность? Всё очень просто! Вспоминаем, что вероятность - это число от 0 до 1, значит нам нужно как-то перевести ответы нашей линейной модели в отрезок [0, 1]. Для этого существует функция, которая называется сигмоида или логистическая функция. \n",
    "\n",
    "Выглядит она так:\n",
    "\n",
    "$$p=\\frac{1}{1+e^{−y}}$$\n",
    "\n",
    "А ее график выглядит так:\n",
    "\n",
    "<img src=\"https://upload.wikimedia.org/wikipedia/commons/thumb/8/88/Logistic-curve.svg/1200px-Logistic-curve.svg.png\" width=\"500\" height=\"300\">\n",
    "\n",
    "\n",
    "А зная вероятности мы в итоге сможем сказать, объект принадлежит к классу -1 или +1. Например можем считать, что если вероятность принадлежности к положительному классу больше 0.5, то считаем, что объект положительного класса (+1), если меньше, то отрицательного (-1). \n",
    "\n",
    "Например у нас вышло, что вероятность того, что конкретному человеку стоит выдать кредит = 0.8. Ну, кажется, это значит, что мы действительно можем выдать ему кредит. "
   ]
  },
  {
   "cell_type": "code",
   "execution_count": 1,
   "id": "99e63930",
   "metadata": {
    "id": "99e63930"
   },
   "outputs": [],
   "source": [
    "import numpy as np\n",
    "import pandas as pd\n",
    "import matplotlib.pyplot as plt"
   ]
  },
  {
   "cell_type": "markdown",
   "id": "70a28532",
   "metadata": {
    "id": "70a28532"
   },
   "source": [
    "### Ирисы Фишера. Свойства логистической регрессии"
   ]
  },
  {
   "cell_type": "markdown",
   "id": "20b5eef2",
   "metadata": {
    "id": "20b5eef2"
   },
   "source": [
    "Рассмотрим свойства логистической регрессии на примере классического набора данных [\"Ирисы Фишера\"](https://ru.wikipedia.org/wiki/Ирисы_Фишера). Этот набор состоит из 150 наблюдений, каждое из которых представляет собой четыре измерения: длина наружной доли околоцветника (`sepal length`), ширина наружной доли околоцветника (`sepal width`), длина внутренней доли околоцветника (`petal length`), ширина внутренней доли околоцветника (`petal width`). Каждое наблюдение относится к одному из трёх классов ириса: `setosa`, `versicolor` или `virginica`. Задача состоит в том, чтобы по измерениям предсказать класс цветка. \n",
    "\n",
    "<img src=\"https://ranalytics.github.io/data-mining/figures/iris.PNG\">"
   ]
  },
  {
   "cell_type": "code",
   "execution_count": 2,
   "id": "73e6a23e",
   "metadata": {
    "colab": {
     "base_uri": "https://localhost:8080/",
     "height": 206
    },
    "id": "73e6a23e",
    "outputId": "3ab4135a-4acc-4af6-812c-d4f5c6cf1f90"
   },
   "outputs": [
    {
     "data": {
      "text/html": [
       "\n",
       "  <div id=\"df-e3646ba1-f513-49b7-af75-a0e4e3b7d1e7\">\n",
       "    <div class=\"colab-df-container\">\n",
       "      <div>\n",
       "<style scoped>\n",
       "    .dataframe tbody tr th:only-of-type {\n",
       "        vertical-align: middle;\n",
       "    }\n",
       "\n",
       "    .dataframe tbody tr th {\n",
       "        vertical-align: top;\n",
       "    }\n",
       "\n",
       "    .dataframe thead th {\n",
       "        text-align: right;\n",
       "    }\n",
       "</style>\n",
       "<table border=\"1\" class=\"dataframe\">\n",
       "  <thead>\n",
       "    <tr style=\"text-align: right;\">\n",
       "      <th></th>\n",
       "      <th>sepal length (cm)</th>\n",
       "      <th>sepal width (cm)</th>\n",
       "      <th>petal length (cm)</th>\n",
       "      <th>petal width (cm)</th>\n",
       "    </tr>\n",
       "  </thead>\n",
       "  <tbody>\n",
       "    <tr>\n",
       "      <th>0</th>\n",
       "      <td>5.1</td>\n",
       "      <td>3.5</td>\n",
       "      <td>1.4</td>\n",
       "      <td>0.2</td>\n",
       "    </tr>\n",
       "    <tr>\n",
       "      <th>1</th>\n",
       "      <td>4.9</td>\n",
       "      <td>3.0</td>\n",
       "      <td>1.4</td>\n",
       "      <td>0.2</td>\n",
       "    </tr>\n",
       "    <tr>\n",
       "      <th>2</th>\n",
       "      <td>4.7</td>\n",
       "      <td>3.2</td>\n",
       "      <td>1.3</td>\n",
       "      <td>0.2</td>\n",
       "    </tr>\n",
       "    <tr>\n",
       "      <th>3</th>\n",
       "      <td>4.6</td>\n",
       "      <td>3.1</td>\n",
       "      <td>1.5</td>\n",
       "      <td>0.2</td>\n",
       "    </tr>\n",
       "    <tr>\n",
       "      <th>4</th>\n",
       "      <td>5.0</td>\n",
       "      <td>3.6</td>\n",
       "      <td>1.4</td>\n",
       "      <td>0.2</td>\n",
       "    </tr>\n",
       "  </tbody>\n",
       "</table>\n",
       "</div>\n",
       "      <button class=\"colab-df-convert\" onclick=\"convertToInteractive('df-e3646ba1-f513-49b7-af75-a0e4e3b7d1e7')\"\n",
       "              title=\"Convert this dataframe to an interactive table.\"\n",
       "              style=\"display:none;\">\n",
       "        \n",
       "  <svg xmlns=\"http://www.w3.org/2000/svg\" height=\"24px\"viewBox=\"0 0 24 24\"\n",
       "       width=\"24px\">\n",
       "    <path d=\"M0 0h24v24H0V0z\" fill=\"none\"/>\n",
       "    <path d=\"M18.56 5.44l.94 2.06.94-2.06 2.06-.94-2.06-.94-.94-2.06-.94 2.06-2.06.94zm-11 1L8.5 8.5l.94-2.06 2.06-.94-2.06-.94L8.5 2.5l-.94 2.06-2.06.94zm10 10l.94 2.06.94-2.06 2.06-.94-2.06-.94-.94-2.06-.94 2.06-2.06.94z\"/><path d=\"M17.41 7.96l-1.37-1.37c-.4-.4-.92-.59-1.43-.59-.52 0-1.04.2-1.43.59L10.3 9.45l-7.72 7.72c-.78.78-.78 2.05 0 2.83L4 21.41c.39.39.9.59 1.41.59.51 0 1.02-.2 1.41-.59l7.78-7.78 2.81-2.81c.8-.78.8-2.07 0-2.86zM5.41 20L4 18.59l7.72-7.72 1.47 1.35L5.41 20z\"/>\n",
       "  </svg>\n",
       "      </button>\n",
       "      \n",
       "  <style>\n",
       "    .colab-df-container {\n",
       "      display:flex;\n",
       "      flex-wrap:wrap;\n",
       "      gap: 12px;\n",
       "    }\n",
       "\n",
       "    .colab-df-convert {\n",
       "      background-color: #E8F0FE;\n",
       "      border: none;\n",
       "      border-radius: 50%;\n",
       "      cursor: pointer;\n",
       "      display: none;\n",
       "      fill: #1967D2;\n",
       "      height: 32px;\n",
       "      padding: 0 0 0 0;\n",
       "      width: 32px;\n",
       "    }\n",
       "\n",
       "    .colab-df-convert:hover {\n",
       "      background-color: #E2EBFA;\n",
       "      box-shadow: 0px 1px 2px rgba(60, 64, 67, 0.3), 0px 1px 3px 1px rgba(60, 64, 67, 0.15);\n",
       "      fill: #174EA6;\n",
       "    }\n",
       "\n",
       "    [theme=dark] .colab-df-convert {\n",
       "      background-color: #3B4455;\n",
       "      fill: #D2E3FC;\n",
       "    }\n",
       "\n",
       "    [theme=dark] .colab-df-convert:hover {\n",
       "      background-color: #434B5C;\n",
       "      box-shadow: 0px 1px 3px 1px rgba(0, 0, 0, 0.15);\n",
       "      filter: drop-shadow(0px 1px 2px rgba(0, 0, 0, 0.3));\n",
       "      fill: #FFFFFF;\n",
       "    }\n",
       "  </style>\n",
       "\n",
       "      <script>\n",
       "        const buttonEl =\n",
       "          document.querySelector('#df-e3646ba1-f513-49b7-af75-a0e4e3b7d1e7 button.colab-df-convert');\n",
       "        buttonEl.style.display =\n",
       "          google.colab.kernel.accessAllowed ? 'block' : 'none';\n",
       "\n",
       "        async function convertToInteractive(key) {\n",
       "          const element = document.querySelector('#df-e3646ba1-f513-49b7-af75-a0e4e3b7d1e7');\n",
       "          const dataTable =\n",
       "            await google.colab.kernel.invokeFunction('convertToInteractive',\n",
       "                                                     [key], {});\n",
       "          if (!dataTable) return;\n",
       "\n",
       "          const docLinkHtml = 'Like what you see? Visit the ' +\n",
       "            '<a target=\"_blank\" href=https://colab.research.google.com/notebooks/data_table.ipynb>data table notebook</a>'\n",
       "            + ' to learn more about interactive tables.';\n",
       "          element.innerHTML = '';\n",
       "          dataTable['output_type'] = 'display_data';\n",
       "          await google.colab.output.renderOutput(dataTable, element);\n",
       "          const docLink = document.createElement('div');\n",
       "          docLink.innerHTML = docLinkHtml;\n",
       "          element.appendChild(docLink);\n",
       "        }\n",
       "      </script>\n",
       "    </div>\n",
       "  </div>\n",
       "  "
      ],
      "text/plain": [
       "   sepal length (cm)  sepal width (cm)  petal length (cm)  petal width (cm)\n",
       "0                5.1               3.5                1.4               0.2\n",
       "1                4.9               3.0                1.4               0.2\n",
       "2                4.7               3.2                1.3               0.2\n",
       "3                4.6               3.1                1.5               0.2\n",
       "4                5.0               3.6                1.4               0.2"
      ]
     },
     "execution_count": 2,
     "metadata": {},
     "output_type": "execute_result"
    }
   ],
   "source": [
    "from sklearn.datasets import load_iris\n",
    "data = load_iris()\n",
    "X = pd.DataFrame(data['data'], columns = data['feature_names'])\n",
    "y = data['target']\n",
    "X.head()"
   ]
  },
  {
   "cell_type": "markdown",
   "id": "4a773386",
   "metadata": {
    "id": "4a773386"
   },
   "source": [
    "Мы не умеем предсказывать 3 класса, так что давайте перейдём к задаче бинарной классификации: будем предсказывать принадлежность цветка к виду `versicolor` против принадлежности ко всем прочим видам."
   ]
  },
  {
   "cell_type": "markdown",
   "id": "OYO8OLjZ3OHI",
   "metadata": {
    "id": "OYO8OLjZ3OHI"
   },
   "source": [
    "Для этого нам придется перекодировать зависимую переменную так, чтобы цветки вида `versicolor` имели метку 1, а прочих видов – метку -1. "
   ]
  },
  {
   "cell_type": "code",
   "execution_count": 3,
   "id": "7ba73a79",
   "metadata": {
    "colab": {
     "base_uri": "https://localhost:8080/"
    },
    "id": "7ba73a79",
    "outputId": "f7921fea-bbbc-4e41-c0b8-a3512d5a7e10"
   },
   "outputs": [
    {
     "data": {
      "text/plain": [
       "array([0, 0, 0, 0, 0, 0, 0, 0, 0, 0, 0, 0, 0, 0, 0, 0, 0, 0, 0, 0, 0, 0,\n",
       "       0, 0, 0, 0, 0, 0, 0, 0, 0, 0, 0, 0, 0, 0, 0, 0, 0, 0, 0, 0, 0, 0,\n",
       "       0, 0, 0, 0, 0, 0, 1, 1, 1, 1, 1, 1, 1, 1, 1, 1, 1, 1, 1, 1, 1, 1,\n",
       "       1, 1, 1, 1, 1, 1, 1, 1, 1, 1, 1, 1, 1, 1, 1, 1, 1, 1, 1, 1, 1, 1,\n",
       "       1, 1, 1, 1, 1, 1, 1, 1, 1, 1, 1, 1, 2, 2, 2, 2, 2, 2, 2, 2, 2, 2,\n",
       "       2, 2, 2, 2, 2, 2, 2, 2, 2, 2, 2, 2, 2, 2, 2, 2, 2, 2, 2, 2, 2, 2,\n",
       "       2, 2, 2, 2, 2, 2, 2, 2, 2, 2, 2, 2, 2, 2, 2, 2, 2, 2])"
      ]
     },
     "execution_count": 3,
     "metadata": {},
     "output_type": "execute_result"
    }
   ],
   "source": [
    "y"
   ]
  },
  {
   "cell_type": "code",
   "execution_count": 4,
   "id": "de6c1eca",
   "metadata": {
    "colab": {
     "base_uri": "https://localhost:8080/"
    },
    "id": "de6c1eca",
    "outputId": "1fed094e-38d4-48a4-a2b0-ccdeb7c0ad97"
   },
   "outputs": [
    {
     "data": {
      "text/plain": [
       "array(['setosa', 'versicolor', 'virginica'], dtype='<U10')"
      ]
     },
     "execution_count": 4,
     "metadata": {},
     "output_type": "execute_result"
    }
   ],
   "source": [
    "data['target_names']"
   ]
  },
  {
   "cell_type": "code",
   "execution_count": 5,
   "id": "54dad3df",
   "metadata": {
    "id": "54dad3df"
   },
   "outputs": [],
   "source": [
    "y[y != 1] = -1"
   ]
  },
  {
   "cell_type": "markdown",
   "id": "ZnJD5zalAb4H",
   "metadata": {
    "id": "ZnJD5zalAb4H"
   },
   "source": [
    "### Обучение модели"
   ]
  },
  {
   "cell_type": "markdown",
   "id": "a6dc8a1a",
   "metadata": {
    "id": "a6dc8a1a"
   },
   "source": [
    "Теперь давайте подготовим наши данные к обучению модели. Будем работать с двумя признаками: `sepal length (cm)` и `sepal width (cm)"
   ]
  },
  {
   "cell_type": "code",
   "execution_count": 7,
   "id": "534868e1",
   "metadata": {
    "id": "534868e1"
   },
   "outputs": [],
   "source": [
    "# импортируем функцию, которая делит нашу выборку на обучающую и тестовую\n",
    "from sklearn.model_selection import train_test_split \n",
    "np.random.seed(123)"
   ]
  },
  {
   "cell_type": "code",
   "execution_count": 9,
   "id": "4a1d0656",
   "metadata": {
    "id": "4a1d0656"
   },
   "outputs": [],
   "source": [
    "# оставляем только 2 признака\n",
    "X = X[['sepal length (cm)', 'sepal width (cm)']]\n",
    "# делим выборку на обучающую и тестовую в соотношении 7/3\n",
    "X_train, X_test, y_train, y_test = train_test_split(X, y, test_size = 0.3)"
   ]
  },
  {
   "cell_type": "markdown",
   "id": "909c3efc",
   "metadata": {
    "id": "909c3efc"
   },
   "source": [
    "Самое время обучить логистическую регрессию! \n"
   ]
  },
  {
   "cell_type": "code",
   "execution_count": 10,
   "id": "49bc5c70",
   "metadata": {
    "id": "49bc5c70"
   },
   "outputs": [],
   "source": [
    "from sklearn.linear_model import LogisticRegression"
   ]
  },
  {
   "cell_type": "code",
   "execution_count": 11,
   "id": "bbace062",
   "metadata": {
    "colab": {
     "base_uri": "https://localhost:8080/"
    },
    "id": "bbace062",
    "outputId": "9fea39c6-b8a8-44ff-85e5-676a682ee3ba"
   },
   "outputs": [
    {
     "name": "stdout",
     "output_type": "stream",
     "text": [
      "[[ 0.01008124 -2.3212169 ]]\n"
     ]
    }
   ],
   "source": [
    "lr = LogisticRegression()\n",
    "\n",
    "lr.fit(X_train, y_train)"
   ]
  },
  {
   "cell_type": "markdown",
   "id": "VTsrir5ep82j",
   "metadata": {
    "id": "VTsrir5ep82j"
   },
   "source": [
    "Мы обучили модель, но теперь непонятно, что с ней делать, насколько хорошей она вышла...\n",
    "\n",
    "Для начала мы можем посмотреть на полученные коэффициенты при каждом из признаков, которые у нас вышли (аналогично как с линейной регрессией)"
   ]
  },
  {
   "cell_type": "code",
   "execution_count": 14,
   "id": "5TJno-DvqDS0",
   "metadata": {
    "colab": {
     "base_uri": "https://localhost:8080/"
    },
    "id": "5TJno-DvqDS0",
    "outputId": "8a62007a-1a92-4ab6-af0e-ca5fa8097324"
   },
   "outputs": [
    {
     "name": "stdout",
     "output_type": "stream",
     "text": [
      "[[ 0.01008124 -2.3212169 ]]\n"
     ]
    }
   ],
   "source": [
    "print(lr.coef_)"
   ]
  },
  {
   "cell_type": "markdown",
   "id": "KIHX16P1AhBv",
   "metadata": {
    "id": "KIHX16P1AhBv"
   },
   "source": [
    "### Метрики качества классификации"
   ]
  },
  {
   "cell_type": "markdown",
   "id": "8p8i5NcYqQfy",
   "metadata": {
    "id": "8p8i5NcYqQfy"
   },
   "source": [
    "А теперь попробуем оценить качество нашей модели. Для этого существует множество способов, но самый простой из них - посчитать долю верных ответов (сколько предсказанных классов совпадает с истинными классами объектов). Такая материка называется **$accuracy$**.\n",
    "\n",
    "$$Accuracy(a, x) = \\frac{1}{l}\\sum_{i=1}^l[a(x_i) = y_i]$$\n",
    "\n",
    "Где $a$ - модель, $x = x_1, x_2, ..., x_l$ - объекты выборки, $y_i$ - класс объекта $x_i$ из выборки (1 или -1)\n",
    "\n",
    "Чем ближе $accuracy$ к 1 тем лучше. $Accuracy = 1$ значит, что мы верно определили все объекты (но к сожалению на практике так почти не бывает...)"
   ]
  },
  {
   "cell_type": "markdown",
   "id": "OHyUeUE1r1y0",
   "metadata": {
    "id": "OHyUeUE1r1y0"
   },
   "source": [
    "Однако у такой метрики есть свои проблемы - если у нас нарушен баланс классов (объектов одного класса сильно больше объектов второго класса), то  $accuracy$ не поможет нам верно оценить, насколько наша модель хорошо.\n",
    "\n",
    "**Пример:**\n",
    "\n",
    "Пускай у нас есть 950 объектов положительного класса (+1) и 50 объектов отрицательного класса. Тогда если наша модель всегда будет возвращать в качестве ответа положительный класс, то её $accuracy$ окажется 0.95. Хотя если задуматься, модель у нас такая себе..."
   ]
  },
  {
   "cell_type": "markdown",
   "id": "tituR8XitOF7",
   "metadata": {
    "id": "tituR8XitOF7"
   },
   "source": [
    "Посмотрим, можем ли мы в случае с нашим датасетом с ирисами использовать accuracy.\n",
    "\n",
    "Давайте для начала посмотрим на баланс в наших данных - то есть сколько в них объектов класса 1, а сколько -1"
   ]
  },
  {
   "cell_type": "code",
   "execution_count": 13,
   "id": "hJJLiKeRofJ5",
   "metadata": {
    "colab": {
     "base_uri": "https://localhost:8080/",
     "height": 430
    },
    "id": "hJJLiKeRofJ5",
    "outputId": "454b8572-8588-4037-b165-01284a8cf295"
   },
   "outputs": [
    {
     "data": {
      "image/png": "[encoded data removed]",
      "text/plain": [
       "<Figure size 640x480 with 1 Axes>"
      ]
     },
     "metadata": {},
     "output_type": "display_data"
    }
   ],
   "source": [
    "import seaborn as sns\n",
    "\n",
    "sns.countplot(x='target',data=data, palette='hls')\n",
    "plt.show()"
   ]
  },
  {
   "cell_type": "code",
   "execution_count": 36,
   "id": "Jx-xMCYeCy9_",
   "metadata": {
    "colab": {
     "base_uri": "https://localhost:8080/"
    },
    "id": "Jx-xMCYeCy9_",
    "outputId": "cd8ffad8-ac40-4af1-935f-d7b7ae4d93f6"
   },
   "outputs": [
    {
     "name": "stdout",
     "output_type": "stream",
     "text": [
      "Accuracy на тесте: 0.6888888888888889\n"
     ]
    }
   ],
   "source": [
    "from sklearn.metrics import accuracy_score\n",
    "\n",
    "print('Accuracy на тесте:', accuracy_score(y_test, lr.predict(X_test)))"
   ]
  },
  {
   "cell_type": "markdown",
   "id": "zUOLQLsKts5O",
   "metadata": {
    "id": "zUOLQLsKts5O"
   },
   "source": [
    "Дизбаланс классов, к сожалению, есть. Так что пришло время узнать о других метриках качества классфикации!\n",
    "\n",
    "Но перед этим введем немного новых определений.\n",
    "\n",
    "$Confusion \\ Matrix$ (матрица ошибок):\n",
    "\n",
    "<img src=\"data:image/png;base64,iVBORw0KGgoAAAANSUhEUgAAATgAAAChCAMAAABkv1NnAAABO1BMVEX////88s/ssowAAAB+fn7a2tqenp6YmJjg4OCTk5P6+vpUVFTk5OT09PTp6envtI397Mnps43OoYLh2L3x6MrerIrquJLvxqH44Lv/+dWPiXnZ0baCZlTIm33Pz89bW1v/9MxDQ0Ourq7Hx8fetJg1IhHfo32Dg4Pvs4gMFxwPAADp0qyDaUm8vLwgICBzc3OwkYIvLy9NTU2aZUy7wbhra2u1tbU8PDwyMjJbSTRtVUXZ4NIlJSVRPzQAICtqX1Tp7NUcAAAWExCojW5UTkZoenSsclGQemRkRTJBLyfDnIVVQzhUZWBgY14ACxedn5OrpZHAwq6poIoeJjOrf2BTMx6hjXrGjGZzbF8nIxmGXUEsFwCffGYAEiCVgF6XYD+Dc2KTloksEQnaxaI1P0dzXT4zIhhgc2/EwKhBsGJMAAAH80lEQVR4nO3dC5eTRhgG4Ek+IFwCGC/pZt0OBnSxawGTSpJqrGvW+3rZttaq1dbWXvz/v6ADSbrZntPCjDscNn7vObskMYD7ZBiGCQOEYDDrGNrS1iUtp0o4A9YnapVwLYhU+Ymo9FXoStVwegVrUU356/DXEs6Wvw6KcGJBOMEgnGBqCGc7qy0kNaDRkX92/MIl8MM5pnN0h2IXLaKGcOHQ8w6f+aEa5K8GixfUceESysB5ltU+fDZQhzRf2/KFpOjjqSOcRsBJh7bhacS3PCPQiGL5s4EaeQmhw8QqXEIZuJndSnVWmCPfJDToq9Qmo4iCRqjvEHV0IuFSZdiGIIoD0MEODV/xU2KnIxNGE3+q+sPCJZSBi50kbIGhKZqnziLQxzQNfQqBOg7AgQBGBfPXES6hRJ+SUV9V20A0BtcK2aY1soFSGxx6PHBTzyCGQSwr0fyEDPW+CmzTZesbKGE0IOEJLHGKwf50IPY0GRJrOA391Jl5kRbrqWU5xnjcL1xCGThge6AwZMVbHdF4lJU4L/QdGAVT6tusxJ1AuH9iLn7mE/PIC/+bMnARe4/K/vaIVWlBFNiBw+o4ovqsjlNZHUfbBfPXGU44n2g77uODcIJBOMEgXBaqJEpQ/LbVIBxZdraHXPMIwKkDKD4iWU3d4VQAL7I4O/i54cyQfThe8ftWUnc4BWaE2AAGz0zccBr0x2sGN4Yk/821HXHDsYN9a73gzDgvax5MeOYS2TmsGRzbSFsE4RBOONx13DRviVhQ3CWyEoQjpJ/vFmK+hhzCERJmTbgIgOvYAeEIcVjLdAJQ3Ou7Gm64KJ7MYDaZcpyAVHc4QuOsUc8nwQ3nL05AKuq9XP1/1R2OkLbOeyYaN5ytz8MxywmA4w/2jggG4QSDcIJBOMEgnGAQTjAIJxiEEwzCCQbhBINwgkE4wVQBFyCcWAyEEwvCCaZyuCpWt4ZwGk/vtHCqKNWHRcAfWvIzgSrWUsU6Bv/ArdOo70pyCKfasmMa8Oic/Fw5Kz+bK3AVVA0t+NyVnuZGQ3p61cM15QfhEA7hEO7Y4Byei3x8snDJ/LQhe2VQYj/6j/ci3GHseKAzNapB1KZkZFKNkiHCFcNpmhaS2PcDaPseAUdTwbQQrhhurGlgAyHqjPgpgxsmoCNcMVwbggCC2NccUIOpDxQC0HFTLQFHCaE6q+NIEJCAUpOOAjPgOe3vE4X7+CAcwiHcmsG5nWWazc78pU4H4Yrd7j28mefhfffBzTed/JVH7vHDzbsl59NGbx3gbu7vA+zv37zfBABGdvkruHrscBe+znvBH/eu5NMnN048XLZhupe+uMgm2zszuNOVBff02cHBwbcMzjr4bh++35UN57SFvufj2jlcZnCMahtuXWJmkuC+2c23zytwt9c79TVckwtnW6xcDwS+kRWEew79rjS4xhKu0dsDrWQ1Jwg3YWyMjv8Lc0E49wd4Ia/E9XpLuC8ll7h8GCSdD16uBK77Iwy6knYOT16+vJXVcXcbZ7+Dt3LruBQGZDkGtxo49wG8kAQXv3o1e7bYq8K1sg0SMbh+fk2LNLskSDVwHXcb4i25m2p/c/Ngt3RDTgxuPlA+AagMrnn5NbySvXPolW//isGZs+rhmtu3QfpelSNiJW4CSiVwPz09hHO/WgO4YT7w3+McKc8N5z5/082mbx515s/OSYB7WyVcXtbYBst1pSh+uKbrHp2UdOM5yD97Zj49deYsj5sgXJBdm8zjGvsvBHdUsfxb69utlOSNHv7278fAle2MqzUciZJUETl5GHuABYNwCIdwCIdwCIdwCIdwCIdwCIdwCFdDOI7uIYRbhZPvtqZwa1jiVGJKDlvJ6a78bJySnsYqXOTITluB8/JLQ+OzjvR0t1bgKrhAQ6saOPm1gbtVdR2HcAiHcAhXY7jFrZxX7o9tAscQ6U8WLojHjEonSmo7pukQR0e4UnApBceOQ80aqsNIBUcJPYJwxXAmEMWILAYQEitSpyTxpljiSsCNJmEyDWJTbyXE8/2Bn6pgI1yJMfmUkMT2U+okgZP4hqmE7AfhygOIBuEQDuEQDuEQru5w2enY+TUOm8uLHa4D3GLMN3swP5G+/GnhZeHce9cX2XNfs99bV7tl6YThtIT/XH0uuAs/z1jgcW/j4SzM5Pbg22OH+yVbBcSz2bvtbAJwqysXTh0AjCXDfQnJ5ubLX3sbtyEbRdrbKz+0r3wd1+l0Ln1xkf3ehjvdzo+/lR68IwYXsI+H71axQnA3etm4tI2dV6zcSYJbDBhz3QzOde/BO6lwkdVOq4DLH2zs3L3OzGTCMYcMruk+lwxHsoFc1ZS4HO49/L4rtcTN4dztH+CFbLgqSpyyubl5rcfgen/AM7lwze2dwbutPzO9NYDLkuRwV+CbXdlwsLPz51b2sBRdreFu5A25DO7CGzD2Sl+hQQgO7lw81y3fAq43XP4gg2ts3H77Tm6JK7+Vnig4VsPNpMPxDO0Ug2sb2himWkvkgi1icI2NSxzXtuCCW45fv1P2oOEj4KJ/3QpCLhz8lYG9B0l13NZWLvb6PseAWPES18piyCxxjfMfFkf1H84ffX68cCvj13nk6tw7Ih7sj0M4hEM4hEM4hEM4hEM4hEM4hEM4hEM4hEO4EwBXzbBLrmt4CsLJv/ntEbjAaUuOE8KHM/Jz8bT8XMebb4tmCRcpGJ4kPDdyw2AwmBOZvwGYYui1hZPJWQAAAABJRU5ErkJggg==\">\n",
    "\n",
    "А теперь метрики! Наиболее популярными из них являются $precision \\ (точность)$ и $recall \\ (полнота)$. Формулы выглядят так:\n",
    "\n",
    "$$precision = \\frac{TP}{TP+FP}$$\n",
    "$$recall = \\frac{TP}{TP+FN}$$\n",
    "\n",
    "Если говорить словами, то по сути $precision$ оценивает точность модели. Это доля объектов положительного класса среди всех объектов, помеченных моделью как положительный класс. А $recall$ оценивает полноту то есть это доля объектов положительного класса, которые нашла модель. \n",
    "\n",
    "Есть еще одна метрика, которая часто встречается - $F1$. Вычисляется она по следующей формуле:\n",
    "\n",
    "$$F1 = \\frac{2 \\times precision \\times recall}{precision + recall}$$"
   ]
  },
  {
   "cell_type": "markdown",
   "id": "ITv5Qdzo5trl",
   "metadata": {
    "id": "ITv5Qdzo5trl"
   },
   "source": [
    "Посчитаем все метрики для нашей модели с ирисами"
   ]
  },
  {
   "cell_type": "code",
   "execution_count": 17,
   "id": "50a95483",
   "metadata": {
    "id": "50a95483"
   },
   "outputs": [],
   "source": [
    "from sklearn.metrics import f1_score, precision_score, recall_score"
   ]
  },
  {
   "cell_type": "code",
   "execution_count": 18,
   "id": "c1f8fc35",
   "metadata": {
    "colab": {
     "base_uri": "https://localhost:8080/"
    },
    "id": "c1f8fc35",
    "outputId": "94f41cbd-8b53-47b8-ad30-e06f6080cf91"
   },
   "outputs": [
    {
     "name": "stdout",
     "output_type": "stream",
     "text": [
      "Precision на тесте: 0.6666666666666666\n",
      "Recall на тесте: 0.25\n",
      "F1 на тесте: 0.36363636363636365\n"
     ]
    }
   ],
   "source": [
    "print('Precision на тесте:', precision_score(y_test, lr.predict(X_test)))\n",
    "print('Recall на тесте:', recall_score(y_test, lr.predict(X_test)))\n",
    "print('F1 на тесте:', f1_score(y_test, lr.predict(X_test)))"
   ]
  },
  {
   "cell_type": "markdown",
   "id": "flQjql306kS-",
   "metadata": {
    "id": "flQjql306kS-"
   },
   "source": [
    "**Упражнение:** подумайте, что такие результаты говорят о нашей модели. "
   ]
  },
  {
   "cell_type": "markdown",
   "id": "eaae2dac",
   "metadata": {
    "id": "eaae2dac"
   },
   "source": [
    "### ROC-кривая"
   ]
  },
  {
   "cell_type": "markdown",
   "id": "b6a221a0",
   "metadata": {
    "id": "b6a221a0"
   },
   "source": [
    "Ранее мы узнали, что помимо $accuracy$ в задачах классификации так же используются $precision$, $recall$ и $F1$-мера. Теперь пришло время познакомиться с ещё одной метрикой – $ROC AUC$.\n",
    "\n",
    "Вернемся к матрице ошибок и определим следующие величины:\n",
    "\n",
    "$$\n",
    "TPR \\text{ (true positive rate)} = \\dfrac{TP}{TP + FN} –\n",
    "$$\n",
    "доля правильно предсказанных объектов положительного класса (тоже самое что $recall$).\n",
    "\n",
    "$$\n",
    "FPR \\text{ (false positive rate)} = \\dfrac{FP}{FP + TN} –\n",
    "$$\n",
    "доля неправильно предсказанных объектов отрицательного класса.\n",
    "\n",
    "Рассмотрим задачу классификации: мы предказываем вероятности принадлежности наблюдения к положительному классу. Тогда $TPR$ и $FPR$ будут зависеть от порога для вероятности, выше которого наблюдение будет отнесено к положительному классу (например если мы говорим, что начиная от вероятности 0.7 мы выдаем кредит, то порог тут - это 0.7). $ROC$-кривая строится в координатах $(FPR, TPR)$ и показывает комбинации $TPR$ и $FPR$ при всевозможных значениях порога. Для хорошего классификатора эта кривая является выгнутой, а для идеального классификатора она будет проходить через точку $(0, 1)$. Если же кривая совпадает с диагональю - то классификатор вышел очень плохим, его резульат совпадает со случайным предсказанием.\n",
    "\n",
    " $ROC-AUC$ - это площадь под $ROC$-кривой, чем ближе значение к 1 тем лучше. По сути это доля пар наблюдений $(y = 1, y = -1)$, которые алгоритм верно упорядочил.\n",
    "\n",
    "\n"
   ]
  },
  {
   "cell_type": "markdown",
   "id": "5EBhbrQZ94vA",
   "metadata": {
    "id": "5EBhbrQZ94vA"
   },
   "source": [
    "Давайте построим $ROC$ кривую и посчитаем $ROC-AUC$ для нашей задачи."
   ]
  },
  {
   "cell_type": "code",
   "execution_count": 32,
   "id": "880c5951",
   "metadata": {
    "id": "880c5951"
   },
   "outputs": [],
   "source": [
    "from sklearn.metrics import roc_curve\n",
    "# считаем fpr и tpr, чтобы дальше построить по ним график\n",
    "# !!важный момент!! в roc_curve мы передаем предсказанные вероятности, а не классы\n",
    "fpr, tpr, thresholds = roc_curve(y_test, lr.predict_proba(X_test)[:, 1])"
   ]
  },
  {
   "cell_type": "code",
   "execution_count": 33,
   "id": "d3ad61da",
   "metadata": {
    "colab": {
     "base_uri": "https://localhost:8080/",
     "height": 601
    },
    "id": "d3ad61da",
    "outputId": "4e3168ea-565e-44ac-8ee8-2c9cd7589fd1"
   },
   "outputs": [
    {
     "name": "stderr",
     "output_type": "stream",
     "text": [
      "WARNING:matplotlib.legend:No artists with labels found to put in legend.  Note that artists whose label start with an underscore are ignored when legend() is called with no argument.\n"
     ]
    },
    {
     "data": {
      "image/png": "[encoded data removed]",
      "text/plain": [
       "<Figure size 600x600 with 1 Axes>"
      ]
     },
     "metadata": {},
     "output_type": "display_data"
    }
   ],
   "source": [
    "plt.figure(figsize=(6, 6))\n",
    "\n",
    "plt.title('ROC-кривая ')\n",
    "plt.xlabel('False positive rate')\n",
    "plt.ylabel('True positive rate')\n",
    "\n",
    "plt.plot(fpr, tpr, color='palevioletred')\n",
    "plt.plot([0, 1], [0, 1], linestyle='--', color='green')\n",
    "plt.legend()\n",
    "\n",
    "plt.grid()\n",
    "plt.show()"
   ]
  },
  {
   "cell_type": "code",
   "execution_count": 30,
   "id": "pDEkG_Al-tIu",
   "metadata": {
    "id": "pDEkG_Al-tIu"
   },
   "outputs": [],
   "source": [
    "from sklearn.metrics import roc_auc_score"
   ]
  },
  {
   "cell_type": "code",
   "execution_count": 34,
   "id": "AwopQKlH-26A",
   "metadata": {
    "colab": {
     "base_uri": "https://localhost:8080/"
    },
    "id": "AwopQKlH-26A",
    "outputId": "96bca04b-3530-4a93-8fa9-d9e37fc9ba0f"
   },
   "outputs": [
    {
     "name": "stdout",
     "output_type": "stream",
     "text": [
      "ROC-AUC на тесте: 0.7370689655172414\n"
     ]
    }
   ],
   "source": [
    "print('ROC-AUC на тесте:', roc_auc_score(y_test, lr.predict_proba(X_test)[:, 1]))"
   ]
  },
  {
   "cell_type": "markdown",
   "id": "scvRxGxv_AwW",
   "metadata": {
    "id": "scvRxGxv_AwW"
   },
   "source": [
    "Вышло не так плохо, как могло бы быть. Значение ROC-AUC = 0.5, это то, что дает случайное предсказание, а значение = 1 у идеальной модели."
   ]
  }
 ],
 "metadata": {
  "colab": {
   "provenance": []
  },
  "kernelspec": {
   "display_name": "Python 3",
   "language": "python",
   "name": "python3"
  },
  "language_info": {
   "codemirror_mode": {
    "name": "ipython",
    "version": 3
   },
   "file_extension": ".py",
   "mimetype": "text/x-python",
   "name": "python",
   "nbconvert_exporter": "python",
   "pygments_lexer": "ipython3",
   "version": "3.8.5"
  }
 },
 "nbformat": 4,
 "nbformat_minor": 5
}
