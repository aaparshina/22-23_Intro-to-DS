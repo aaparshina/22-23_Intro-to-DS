{
 "cells": [
  {
   "cell_type": "markdown",
   "id": "94f371ea",
   "metadata": {},
   "source": [
    "# Анализ данных в Python\n",
    "\n",
    "# Корреляция\n",
    "\n",
    "*Автор: Марина Пак*"
   ]
  },
  {
   "cell_type": "code",
   "execution_count": 1,
   "id": "d668664a",
   "metadata": {
    "ExecuteTime": {
     "end_time": "2023-04-02T15:40:35.266499Z",
     "start_time": "2023-04-02T15:40:33.399322Z"
    }
   },
   "outputs": [],
   "source": [
    "import pandas as pd\n",
    "import numpy as np\n",
    "from matplotlib import pyplot as plt"
   ]
  },
  {
   "cell_type": "markdown",
   "id": "aeec3417",
   "metadata": {},
   "source": [
    "\n",
    "Корреляция — это мера **линейной** взаимосвязи между двумя величинами.<br>Сила корреляции (взаимосвязи) выражается числом, которое называется **коэффициентом корреляции**, который:\n",
    "- измеряется от **-1** до **1**. Чем **ближе** коэффициент по **модулю к 1**, тем корреляция сильнее - линейная взаимосвязь между переменными выше\n",
    "- положительный коэффициент корреляции - зависимость прямая\n",
    "- отрицательный коэффициент корреляции - зависимость обратная\n",
    "\n",
    "**Коэффициент корреляции Пирсона (r)** позволяет оценить силу и направление линейной взаимосвязи  <br><br>\n",
    "$$\n",
    "    r = \\frac{\\sum{(x-M_x)(y-M_y)}}{\\sqrt{\\sum{(x-M_x)^2}\\sum{(y-M_y)^2}}} = \\frac{cov{x, y}}{\\sigma_x * \\sigma_y}\n",
    "$$<br>Ниже рассмотрим пример расчета коэффициента корреляции несколькими способами. "
   ]
  },
  {
   "cell_type": "code",
   "execution_count": 2,
   "id": "fd8b1816",
   "metadata": {
    "ExecuteTime": {
     "end_time": "2023-04-02T15:40:35.282472Z",
     "start_time": "2023-04-02T15:40:35.271481Z"
    }
   },
   "outputs": [
    {
     "name": "stdout",
     "output_type": "stream",
     "text": [
      "Коэффициент корреляции (r) = 6.0 / 18.44 = 0.33\n"
     ]
    }
   ],
   "source": [
    "df = pd.DataFrame(\n",
    "    data = [\n",
    "        [2, 4, 1, 3, 5],\n",
    "        [6, 8, 1, 7, 3]\n",
    "    ],\n",
    "    index = ['x', 'y']\n",
    ").T\n",
    "\n",
    "df['x - mu_x'] = df['x'] - df['x'].mean()\n",
    "df['y - mu_y'] = df['y'] - df['y'].mean()\n",
    "\n",
    "numerator = (df['x - mu_x'] * df['y - mu_y']).sum()\n",
    "\n",
    "denominator = np.sqrt((df['x - mu_x'] ** 2).sum() * (df['y - mu_y'] ** 2).sum())\n",
    "\n",
    "r = round(numerator / denominator, 2) # округлим до двух знаков после запятой\n",
    "\n",
    "print(f'Коэффициент корреляции (r) = {numerator} / {round(denominator, 2)} = {r}')"
   ]
  },
  {
   "cell_type": "code",
   "execution_count": 3,
   "id": "b3f38392",
   "metadata": {
    "ExecuteTime": {
     "end_time": "2023-04-02T15:40:35.314107Z",
     "start_time": "2023-04-02T15:40:35.289470Z"
    }
   },
   "outputs": [
    {
     "data": {
      "text/html": [
       "<div>\n",
       "<style scoped>\n",
       "    .dataframe tbody tr th:only-of-type {\n",
       "        vertical-align: middle;\n",
       "    }\n",
       "\n",
       "    .dataframe tbody tr th {\n",
       "        vertical-align: top;\n",
       "    }\n",
       "\n",
       "    .dataframe thead th {\n",
       "        text-align: right;\n",
       "    }\n",
       "</style>\n",
       "<table border=\"1\" class=\"dataframe\">\n",
       "  <thead>\n",
       "    <tr style=\"text-align: right;\">\n",
       "      <th></th>\n",
       "      <th>x</th>\n",
       "      <th>y</th>\n",
       "      <th>x - mu_x</th>\n",
       "      <th>y - mu_y</th>\n",
       "    </tr>\n",
       "  </thead>\n",
       "  <tbody>\n",
       "    <tr>\n",
       "      <th>0</th>\n",
       "      <td>2</td>\n",
       "      <td>6</td>\n",
       "      <td>-1.0</td>\n",
       "      <td>1.0</td>\n",
       "    </tr>\n",
       "    <tr>\n",
       "      <th>1</th>\n",
       "      <td>4</td>\n",
       "      <td>8</td>\n",
       "      <td>1.0</td>\n",
       "      <td>3.0</td>\n",
       "    </tr>\n",
       "    <tr>\n",
       "      <th>2</th>\n",
       "      <td>1</td>\n",
       "      <td>1</td>\n",
       "      <td>-2.0</td>\n",
       "      <td>-4.0</td>\n",
       "    </tr>\n",
       "    <tr>\n",
       "      <th>3</th>\n",
       "      <td>3</td>\n",
       "      <td>7</td>\n",
       "      <td>0.0</td>\n",
       "      <td>2.0</td>\n",
       "    </tr>\n",
       "    <tr>\n",
       "      <th>4</th>\n",
       "      <td>5</td>\n",
       "      <td>3</td>\n",
       "      <td>2.0</td>\n",
       "      <td>-2.0</td>\n",
       "    </tr>\n",
       "  </tbody>\n",
       "</table>\n",
       "</div>"
      ],
      "text/plain": [
       "   x  y  x - mu_x  y - mu_y\n",
       "0  2  6      -1.0       1.0\n",
       "1  4  8       1.0       3.0\n",
       "2  1  1      -2.0      -4.0\n",
       "3  3  7       0.0       2.0\n",
       "4  5  3       2.0      -2.0"
      ]
     },
     "execution_count": 3,
     "metadata": {},
     "output_type": "execute_result"
    }
   ],
   "source": [
    "df"
   ]
  },
  {
   "cell_type": "markdown",
   "id": "4e259a35",
   "metadata": {},
   "source": [
    "Выше мы рассчитали коэффициент корреляции между двумя переменными. Альтернативные способы расчета представлены ниже. Они оба возвращают корреляционную матрицу. Заметьте, что на пересечении (x и y) и (y и x) - значение коэффициента корреляции всегда одинаково."
   ]
  },
  {
   "cell_type": "code",
   "execution_count": 4,
   "id": "7ac2be2f",
   "metadata": {
    "ExecuteTime": {
     "end_time": "2023-04-02T15:40:35.345103Z",
     "start_time": "2023-04-02T15:40:35.319103Z"
    }
   },
   "outputs": [
    {
     "data": {
      "text/html": [
       "<div>\n",
       "<style scoped>\n",
       "    .dataframe tbody tr th:only-of-type {\n",
       "        vertical-align: middle;\n",
       "    }\n",
       "\n",
       "    .dataframe tbody tr th {\n",
       "        vertical-align: top;\n",
       "    }\n",
       "\n",
       "    .dataframe thead th {\n",
       "        text-align: right;\n",
       "    }\n",
       "</style>\n",
       "<table border=\"1\" class=\"dataframe\">\n",
       "  <thead>\n",
       "    <tr style=\"text-align: right;\">\n",
       "      <th></th>\n",
       "      <th>x</th>\n",
       "      <th>y</th>\n",
       "    </tr>\n",
       "  </thead>\n",
       "  <tbody>\n",
       "    <tr>\n",
       "      <th>x</th>\n",
       "      <td>1.00</td>\n",
       "      <td>0.33</td>\n",
       "    </tr>\n",
       "    <tr>\n",
       "      <th>y</th>\n",
       "      <td>0.33</td>\n",
       "      <td>1.00</td>\n",
       "    </tr>\n",
       "  </tbody>\n",
       "</table>\n",
       "</div>"
      ],
      "text/plain": [
       "      x     y\n",
       "x  1.00  0.33\n",
       "y  0.33  1.00"
      ]
     },
     "execution_count": 4,
     "metadata": {},
     "output_type": "execute_result"
    }
   ],
   "source": [
    "# альтернативный способ 1 (полезен, когда переменных много)\n",
    "\n",
    "df[['x', 'y']].corr().round(2)"
   ]
  },
  {
   "cell_type": "code",
   "execution_count": 5,
   "id": "323ccb6c",
   "metadata": {
    "ExecuteTime": {
     "end_time": "2023-04-02T15:40:35.376103Z",
     "start_time": "2023-04-02T15:40:35.347103Z"
    }
   },
   "outputs": [
    {
     "data": {
      "text/plain": [
       "0.32539568672798425"
      ]
     },
     "execution_count": 5,
     "metadata": {},
     "output_type": "execute_result"
    }
   ],
   "source": [
    "# справочно: если нас интересует только один коэффициент корреляции, а не целая матрица, то можно использовать следующую команду\n",
    "\n",
    "df['x'].corr(df['y'])"
   ]
  },
  {
   "cell_type": "code",
   "execution_count": 6,
   "id": "48104f47",
   "metadata": {
    "ExecuteTime": {
     "end_time": "2023-04-02T15:40:35.391104Z",
     "start_time": "2023-04-02T15:40:35.378102Z"
    }
   },
   "outputs": [
    {
     "data": {
      "text/plain": [
       "array([[1.        , 0.32539569],\n",
       "       [0.32539569, 1.        ]])"
      ]
     },
     "execution_count": 6,
     "metadata": {},
     "output_type": "execute_result"
    }
   ],
   "source": [
    "# альтернативный способ 2 (интересует побочная диагональ матрицы)\n",
    "\n",
    "np.corrcoef(df['x'], df['y'])"
   ]
  },
  {
   "cell_type": "markdown",
   "id": "281ec99d",
   "metadata": {},
   "source": [
    "**ВАЖНО!** \n",
    "1. Корреляция **не подразумевает причинно-следственной связи**. Если между признаками А и Б есть тесная взаимосвязь, то мы **НЕ** можем говорить, что А влияет на Б или Б влияет на А.\n",
    "2. Корреляция **чувствительны к выбросам**.* Пример ниже.\n",
    "3. Коэффициент корреляции Пирсона **не фиксирует нелинейные отношения** между двумя переменными. Пример ниже."
   ]
  },
  {
   "cell_type": "markdown",
   "id": "ed4b7169",
   "metadata": {},
   "source": [
    "Пример чувствительности коэффициента корреляции к выбросам в данных:"
   ]
  },
  {
   "cell_type": "code",
   "execution_count": 7,
   "id": "af050b95",
   "metadata": {
    "ExecuteTime": {
     "end_time": "2023-04-02T15:40:35.572566Z",
     "start_time": "2023-04-02T15:40:35.393104Z"
    }
   },
   "outputs": [
    {
     "name": "stdout",
     "output_type": "stream",
     "text": [
      "Корреляция между X и Y (исходные данные) = -0.62\n"
     ]
    },
    {
     "data": {
      "text/plain": [
       "''"
      ]
     },
     "execution_count": 7,
     "metadata": {},
     "output_type": "execute_result"
    },
    {
     "data": {
      "image/png": "[encoded data removed]",
      "text/plain": [
       "<Figure size 432x288 with 1 Axes>"
      ]
     },
     "metadata": {
      "needs_background": "light"
     },
     "output_type": "display_data"
    }
   ],
   "source": [
    "# исходные данные\n",
    "\n",
    "X = np.array([13, 21, 30, 42, 18, 25, 28])\n",
    "Y = np.array([150, 90, 10, 28, 40, 128, 80])\n",
    "print('Корреляция между X и Y (исходные данные) = {}'.format(round(np.corrcoef(X, Y)[1, 0], 2)))\n",
    "plt.scatter(X, Y)\n",
    "plt.xlabel('X')\n",
    "plt.ylabel('Y')\n",
    "plt.title('Диаграмма рассеяния между X и Y')\n",
    ";"
   ]
  },
  {
   "cell_type": "code",
   "execution_count": 8,
   "id": "986e2546",
   "metadata": {
    "ExecuteTime": {
     "end_time": "2023-04-02T15:40:35.711563Z",
     "start_time": "2023-04-02T15:40:35.574564Z"
    }
   },
   "outputs": [
    {
     "name": "stdout",
     "output_type": "stream",
     "text": [
      "Корреляция после добавления экстремального наблюдения = 0.8\n"
     ]
    },
    {
     "data": {
      "text/plain": [
       "''"
      ]
     },
     "execution_count": 8,
     "metadata": {},
     "output_type": "execute_result"
    },
    {
     "data": {
      "image/png": "[encoded data removed]",
      "text/plain": [
       "<Figure size 432x288 with 1 Axes>"
      ]
     },
     "metadata": {
      "needs_background": "light"
     },
     "output_type": "display_data"
    }
   ],
   "source": [
    "# данные после добавления экстремальных значений\n",
    "\n",
    "X1 = np.array([13, 21, 30, 42, 18, 25, 28, 100])\n",
    "Y1 = np.array([150, 90, 10, 28, 40, 128, 80, 400])\n",
    "print('Корреляция после добавления экстремального наблюдения = {}'.format(round(np.corrcoef(X1, Y1)[1, 0], 2)))\n",
    "plt.scatter(X1, Y1)\n",
    "plt.xlabel('X1')\n",
    "plt.ylabel('Y1')\n",
    "plt.title('Диаграмма рассеяния между X и Y (после добавления экстремального значения)')\n",
    ";"
   ]
  },
  {
   "cell_type": "markdown",
   "id": "bf804f08",
   "metadata": {},
   "source": [
    "Пример нелинейной связи"
   ]
  },
  {
   "cell_type": "code",
   "execution_count": 9,
   "id": "ee98299c",
   "metadata": {
    "ExecuteTime": {
     "end_time": "2023-04-02T15:40:35.850564Z",
     "start_time": "2023-04-02T15:40:35.713566Z"
    }
   },
   "outputs": [
    {
     "name": "stdout",
     "output_type": "stream",
     "text": [
      "Корреляция при нелинейной связи = 0.0\n"
     ]
    },
    {
     "data": {
      "image/png": "[encoded data removed]",
      "text/plain": [
       "<Figure size 432x288 with 1 Axes>"
      ]
     },
     "metadata": {
      "needs_background": "light"
     },
     "output_type": "display_data"
    }
   ],
   "source": [
    "X2 = np.linspace(-10, 10, 21) # от -10 до 10 создается 21 значение\n",
    "Y2 = X2 ** 2 # задаем квадратичную зависимость\n",
    "print('Корреляция при нелинейной связи = {}'.format(round(np.corrcoef(X2, Y2)[1, 0], 2)))\n",
    "plt.scatter(X2, Y2)\n",
    "plt.xlabel('X2')\n",
    "plt.ylabel('Y2')\n",
    "plt.title('Диаграмма рассеяния между X2 и Y2 (пример квадратичной зависимости)');"
   ]
  },
  {
   "cell_type": "markdown",
   "id": "99a77bca",
   "metadata": {},
   "source": [
    "Мы точно знаем, как связаны X2 и Y2, но при этом коэффициент корреляции Пирсона = 0, т.к. он отслеживает именно **линейную** зависимость."
   ]
  },
  {
   "cell_type": "markdown",
   "id": "4d88ac6f",
   "metadata": {},
   "source": [
    "**Где и как можно использовать корреляцию на практике**:\n",
    "- на основе корреляции можно делать базовые предпосылки к прогнозированию (более корректно - модели, например, регрессионные)\n",
    "- корреляцию можно использовать для оценки валидности разных тестов. Например, если психолог разработал тест для определения уровня тревоги, то его результаты должны показывать сильную корреляцию с другими показателями, которые точно идентифицируют тревожность (например, физиологические индикаторы).\n",
    "- с помощью корреляции можно определить надежность оценочных инструментов. Например, предположим, группа людей сдает экзамен два раза через небольшие промежутки времени. Результаты первой попытки и второй попытки должны быть практически одинаковые, если экзамен действительно хорошо составлен и условия проведения не изменились. Иными словами, если корреляция между результатами сильная, то можно говорить о надежности инструмента.\n",
    "\n"
   ]
  },
  {
   "cell_type": "markdown",
   "id": "b324a1d4",
   "metadata": {
    "ExecuteTime": {
     "end_time": "2023-03-26T09:45:41.361096Z",
     "start_time": "2023-03-26T09:45:39.061590Z"
    }
   },
   "source": [
    "После того, как мы научились рассчитывать линейную взаимосвязь с помощью корреляции, следующим шагом попробуем описать линейную взаимосвязь в виде уравнения - линейной функции вида:\n",
    "$$\n",
    "y = a + b * x\n",
    "$$\n",
    "\n",
    "Вспомните, что при нулевом значении *x*, значение *y* равно коэффициенту *a*\n",
    "\n",
    "Для расчета коэффициентов парной регрессии вам потребуются формулы:\n",
    "$$\n",
    "    b = \\frac{\\sum{(x-M_x)(y-M_y)}}{\\sum{(x-M_x)^2}}\n",
    "$$<br>\n",
    "$$\n",
    "    a = M_y - b * M_x\n",
    "$$\n",
    "\n",
    "Чуть подробнее о коэффициенте b и корреляции см. в конце семинара."
   ]
  },
  {
   "cell_type": "markdown",
   "id": "6c046987",
   "metadata": {},
   "source": [
    "Рассмотрим реальные данные по рынку недвижимости.\n",
    "\n",
    "Данные за февраль 2023 г.\n",
    "\n",
    "Подробнее на Домклик: https://opendata.domclick.ru/"
   ]
  },
  {
   "cell_type": "code",
   "execution_count": 11,
   "id": "65881b66",
   "metadata": {
    "ExecuteTime": {
     "end_time": "2023-04-02T15:40:36.489166Z",
     "start_time": "2023-04-02T15:40:35.852570Z"
    }
   },
   "outputs": [],
   "source": [
    "data = pd.read_excel('Домклик данные за февраль 2023.xlsx', sheet_name = 'итог очищенный')\n",
    "\n",
    "# ссылка на данные https://github.com/aaparshina/22-23_Intro-to-DS/blob/main/DATA/Домклик%20данные%20за%20февраль%202023.xlsx"
   ]
  },
  {
   "cell_type": "markdown",
   "id": "45fe95e9",
   "metadata": {},
   "source": [
    "**Задание с ***. Попробуйте реализовать какой-либо способ заполнения пропусков в данных. Например, средним значением по федеральному округу."
   ]
  },
  {
   "cell_type": "code",
   "execution_count": 12,
   "id": "ae1dec1c",
   "metadata": {
    "ExecuteTime": {
     "end_time": "2023-04-02T15:40:36.505173Z",
     "start_time": "2023-04-02T15:40:36.491170Z"
    }
   },
   "outputs": [
    {
     "data": {
      "text/plain": [
       "((83, 25), (68, 25))"
      ]
     },
     "execution_count": 12,
     "metadata": {},
     "output_type": "execute_result"
    }
   ],
   "source": [
    "data.shape, data.dropna().shape # ниже мы удалим пропуски в данных"
   ]
  },
  {
   "cell_type": "code",
   "execution_count": 13,
   "id": "e7ee2e9a",
   "metadata": {
    "ExecuteTime": {
     "end_time": "2023-04-02T15:40:36.521171Z",
     "start_time": "2023-04-02T15:40:36.507174Z"
    }
   },
   "outputs": [],
   "source": [
    "data.dropna(inplace = True)"
   ]
  },
  {
   "cell_type": "code",
   "execution_count": 14,
   "id": "5cb763c7",
   "metadata": {
    "ExecuteTime": {
     "end_time": "2023-04-02T15:40:36.537166Z",
     "start_time": "2023-04-02T15:40:36.523169Z"
    }
   },
   "outputs": [
    {
     "name": "stdout",
     "output_type": "stream",
     "text": [
      "<class 'pandas.core.frame.DataFrame'>\n",
      "Int64Index: 68 entries, 0 to 71\n",
      "Data columns (total 25 columns):\n",
      " #   Column                                                          Non-Null Count  Dtype  \n",
      "---  ------                                                          --------------  -----  \n",
      " 0   Рейтинг регионов по количеству объявлений о продаже             68 non-null     int64  \n",
      " 1   Изменение рейтинга регионов по количеству объявлений о продаже  68 non-null     int64  \n",
      " 2   Регион                                                          68 non-null     object \n",
      " 3   Активных объявлений о продаже                                   68 non-null     int64  \n",
      " 4   Активных объявлений, вторичка                                   68 non-null     int64  \n",
      " 5   Активных объявлений, новостройки                                68 non-null     float64\n",
      " 6   Средняя стоимость м², вторичка                                  68 non-null     int64  \n",
      " 7   Средняя стоимость м², новостройки                               68 non-null     float64\n",
      " 8   Средний срок экспозиции, вторичка, дней                         68 non-null     float64\n",
      " 9   Рейтинг регионов по количеству заявок на кредит                 68 non-null     int64  \n",
      " 10  Изменение рейтинга регионов по количеству заявок на кредит      68 non-null     int64  \n",
      " 11  Минимальное количество одобренных заявок                        68 non-null     float64\n",
      " 12  Доля онлайн-заявок                                              68 non-null     float64\n",
      " 13  Доля заявок в офисе банка                                       68 non-null     float64\n",
      " 14  Доля заявок, новостройки                                        68 non-null     float64\n",
      " 15  Доля заявок, вторичка                                           68 non-null     float64\n",
      " 16  Средний срок одобрения, мин                                     68 non-null     float64\n",
      " 17  Рейтинг по количеству ипотечных сделок                          68 non-null     int64  \n",
      " 18  Изменение рейтинга по количеству ипотечных сделок               68 non-null     int64  \n",
      " 19  Минимальное количество ипотечных сделок                         68 non-null     float64\n",
      " 20  Доля сделок, новостройки                                        68 non-null     float64\n",
      " 21  Доля сделок, вторичка                                           68 non-null     float64\n",
      " 22  Доля сделок с риелтором                                         68 non-null     float64\n",
      " 23  Средний срок сделки, новостройки, дней                          68 non-null     float64\n",
      " 24  Средний срок сделки, вторичка                                   68 non-null     float64\n",
      "dtypes: float64(15), int64(9), object(1)\n",
      "memory usage: 13.8+ KB\n"
     ]
    }
   ],
   "source": [
    "data.info()"
   ]
  },
  {
   "cell_type": "code",
   "execution_count": 15,
   "id": "68d64ea1",
   "metadata": {
    "ExecuteTime": {
     "end_time": "2023-04-02T15:40:36.710171Z",
     "start_time": "2023-04-02T15:40:36.539169Z"
    }
   },
   "outputs": [
    {
     "data": {
      "image/png": "[encoded data removed]",
      "text/plain": [
       "<Figure size 432x288 with 1 Axes>"
      ]
     },
     "metadata": {
      "needs_background": "light"
     },
     "output_type": "display_data"
    }
   ],
   "source": [
    "# например\n",
    "\n",
    "plt.scatter(data['Средняя стоимость м², новостройки'], data['Рейтинг по количеству ипотечных сделок'])\n",
    "plt.xlabel('Стоимость кв. м. (в руб.)')\n",
    "plt.ylabel('Рейтинг');"
   ]
  },
  {
   "cell_type": "markdown",
   "id": "df2122d9",
   "metadata": {},
   "source": [
    "Попробуем объяснить с помощью линейной функции рейтинг по количеству ипотечных сделок в зависимости от средней стоимости квадратного метра в новостройках по регионам России в феврале 2023.\n",
    "\n",
    "Тогда y - это рейтинг, а x - стоимость"
   ]
  },
  {
   "cell_type": "code",
   "execution_count": 16,
   "id": "582de171",
   "metadata": {
    "ExecuteTime": {
     "end_time": "2023-04-02T15:40:36.726243Z",
     "start_time": "2023-04-02T15:40:36.712170Z"
    }
   },
   "outputs": [],
   "source": [
    "# создадим таблицу с данными для удобства расчетов\n",
    "df = pd.DataFrame(\n",
    "    data = {\n",
    "        'Y': data['Рейтинг по количеству ипотечных сделок'], # чем ниже рейтинг, тем больше ипотечных сделок\n",
    "        'X': data['Средняя стоимость м², новостройки'] / 10_000 # разделим на 10 000 рублей\n",
    "    }\n",
    ")"
   ]
  },
  {
   "cell_type": "code",
   "execution_count": 17,
   "id": "8403ab55",
   "metadata": {
    "ExecuteTime": {
     "end_time": "2023-04-02T15:40:36.755965Z",
     "start_time": "2023-04-02T15:40:36.733227Z"
    }
   },
   "outputs": [
    {
     "data": {
      "text/html": [
       "<div>\n",
       "<style scoped>\n",
       "    .dataframe tbody tr th:only-of-type {\n",
       "        vertical-align: middle;\n",
       "    }\n",
       "\n",
       "    .dataframe tbody tr th {\n",
       "        vertical-align: top;\n",
       "    }\n",
       "\n",
       "    .dataframe thead th {\n",
       "        text-align: right;\n",
       "    }\n",
       "</style>\n",
       "<table border=\"1\" class=\"dataframe\">\n",
       "  <thead>\n",
       "    <tr style=\"text-align: right;\">\n",
       "      <th></th>\n",
       "      <th>Y</th>\n",
       "      <th>X</th>\n",
       "    </tr>\n",
       "  </thead>\n",
       "  <tbody>\n",
       "    <tr>\n",
       "      <th>0</th>\n",
       "      <td>3</td>\n",
       "      <td>13.2270</td>\n",
       "    </tr>\n",
       "    <tr>\n",
       "      <th>1</th>\n",
       "      <td>2</td>\n",
       "      <td>18.1756</td>\n",
       "    </tr>\n",
       "    <tr>\n",
       "      <th>2</th>\n",
       "      <td>1</td>\n",
       "      <td>31.5195</td>\n",
       "    </tr>\n",
       "    <tr>\n",
       "      <th>3</th>\n",
       "      <td>6</td>\n",
       "      <td>23.6205</td>\n",
       "    </tr>\n",
       "    <tr>\n",
       "      <th>4</th>\n",
       "      <td>9</td>\n",
       "      <td>10.5500</td>\n",
       "    </tr>\n",
       "  </tbody>\n",
       "</table>\n",
       "</div>"
      ],
      "text/plain": [
       "   Y        X\n",
       "0  3  13.2270\n",
       "1  2  18.1756\n",
       "2  1  31.5195\n",
       "3  6  23.6205\n",
       "4  9  10.5500"
      ]
     },
     "execution_count": 17,
     "metadata": {},
     "output_type": "execute_result"
    }
   ],
   "source": [
    "df.head()"
   ]
  },
  {
   "cell_type": "code",
   "execution_count": 18,
   "id": "a789be64",
   "metadata": {
    "ExecuteTime": {
     "end_time": "2023-04-02T15:40:36.771973Z",
     "start_time": "2023-04-02T15:40:36.757974Z"
    }
   },
   "outputs": [],
   "source": [
    "# посчитаем коэффициенты a и b\n",
    "\n",
    "df['mu_x'] = df['X'].mean()\n",
    "df['mu_y'] = df['Y'].mean()\n",
    "df['X - mu_x'] = df['X'] - df['mu_x']\n",
    "df['Y - mu_y'] = df['Y'] - df['mu_y']\n",
    "df['squared(X - mu_x)'] = df['X - mu_x'] ** 2\n",
    "df['(X - mu_x) * (Y - mu_y)'] = df['X - mu_x'] * df['Y - mu_y']"
   ]
  },
  {
   "cell_type": "code",
   "execution_count": 19,
   "id": "fa342d68",
   "metadata": {
    "ExecuteTime": {
     "end_time": "2023-04-02T15:40:36.786977Z",
     "start_time": "2023-04-02T15:40:36.773971Z"
    }
   },
   "outputs": [
    {
     "data": {
      "text/html": [
       "<div>\n",
       "<style scoped>\n",
       "    .dataframe tbody tr th:only-of-type {\n",
       "        vertical-align: middle;\n",
       "    }\n",
       "\n",
       "    .dataframe tbody tr th {\n",
       "        vertical-align: top;\n",
       "    }\n",
       "\n",
       "    .dataframe thead th {\n",
       "        text-align: right;\n",
       "    }\n",
       "</style>\n",
       "<table border=\"1\" class=\"dataframe\">\n",
       "  <thead>\n",
       "    <tr style=\"text-align: right;\">\n",
       "      <th></th>\n",
       "      <th>Y</th>\n",
       "      <th>X</th>\n",
       "      <th>mu_x</th>\n",
       "      <th>mu_y</th>\n",
       "      <th>X - mu_x</th>\n",
       "      <th>Y - mu_y</th>\n",
       "      <th>squared(X - mu_x)</th>\n",
       "      <th>(X - mu_x) * (Y - mu_y)</th>\n",
       "    </tr>\n",
       "  </thead>\n",
       "  <tbody>\n",
       "    <tr>\n",
       "      <th>0</th>\n",
       "      <td>3</td>\n",
       "      <td>13.2270</td>\n",
       "      <td>10.670525</td>\n",
       "      <td>36.352941</td>\n",
       "      <td>2.556475</td>\n",
       "      <td>-33.352941</td>\n",
       "      <td>6.535564</td>\n",
       "      <td>-85.265960</td>\n",
       "    </tr>\n",
       "    <tr>\n",
       "      <th>1</th>\n",
       "      <td>2</td>\n",
       "      <td>18.1756</td>\n",
       "      <td>10.670525</td>\n",
       "      <td>36.352941</td>\n",
       "      <td>7.505075</td>\n",
       "      <td>-34.352941</td>\n",
       "      <td>56.326151</td>\n",
       "      <td>-257.821400</td>\n",
       "    </tr>\n",
       "    <tr>\n",
       "      <th>2</th>\n",
       "      <td>1</td>\n",
       "      <td>31.5195</td>\n",
       "      <td>10.670525</td>\n",
       "      <td>36.352941</td>\n",
       "      <td>20.848975</td>\n",
       "      <td>-35.352941</td>\n",
       "      <td>434.679759</td>\n",
       "      <td>-737.072587</td>\n",
       "    </tr>\n",
       "    <tr>\n",
       "      <th>3</th>\n",
       "      <td>6</td>\n",
       "      <td>23.6205</td>\n",
       "      <td>10.670525</td>\n",
       "      <td>36.352941</td>\n",
       "      <td>12.949975</td>\n",
       "      <td>-30.352941</td>\n",
       "      <td>167.701853</td>\n",
       "      <td>-393.069829</td>\n",
       "    </tr>\n",
       "    <tr>\n",
       "      <th>4</th>\n",
       "      <td>9</td>\n",
       "      <td>10.5500</td>\n",
       "      <td>10.670525</td>\n",
       "      <td>36.352941</td>\n",
       "      <td>-0.120525</td>\n",
       "      <td>-27.352941</td>\n",
       "      <td>0.014526</td>\n",
       "      <td>3.296713</td>\n",
       "    </tr>\n",
       "  </tbody>\n",
       "</table>\n",
       "</div>"
      ],
      "text/plain": [
       "   Y        X       mu_x       mu_y   X - mu_x   Y - mu_y  squared(X - mu_x)  \\\n",
       "0  3  13.2270  10.670525  36.352941   2.556475 -33.352941           6.535564   \n",
       "1  2  18.1756  10.670525  36.352941   7.505075 -34.352941          56.326151   \n",
       "2  1  31.5195  10.670525  36.352941  20.848975 -35.352941         434.679759   \n",
       "3  6  23.6205  10.670525  36.352941  12.949975 -30.352941         167.701853   \n",
       "4  9  10.5500  10.670525  36.352941  -0.120525 -27.352941           0.014526   \n",
       "\n",
       "   (X - mu_x) * (Y - mu_y)  \n",
       "0               -85.265960  \n",
       "1              -257.821400  \n",
       "2              -737.072587  \n",
       "3              -393.069829  \n",
       "4                 3.296713  "
      ]
     },
     "execution_count": 19,
     "metadata": {},
     "output_type": "execute_result"
    }
   ],
   "source": [
    "df.head()"
   ]
  },
  {
   "cell_type": "code",
   "execution_count": 20,
   "id": "bf0b31eb",
   "metadata": {
    "ExecuteTime": {
     "end_time": "2023-04-02T15:40:36.802980Z",
     "start_time": "2023-04-02T15:40:36.788977Z"
    }
   },
   "outputs": [
    {
     "name": "stdout",
     "output_type": "stream",
     "text": [
      "Коэффициент b (чувствительность рейтинга к стоимости квадратного метра новостройки) =  -2.129\n"
     ]
    }
   ],
   "source": [
    "b = df['(X - mu_x) * (Y - mu_y)'].sum() / df['squared(X - mu_x)'].sum()\n",
    "print('Коэффициент b (чувствительность рейтинга к стоимости квадратного метра новостройки) = ', round(b, 3))"
   ]
  },
  {
   "cell_type": "markdown",
   "id": "e08e4f79",
   "metadata": {},
   "source": [
    "Это означает, что с увеличением стоимости квадратного метра новостройки на 10 000 рублей, рейтинг региона в среднем будет снижаться на 2.129 единиц (т.е. число ипотечных сделок будет расти)"
   ]
  },
  {
   "cell_type": "code",
   "execution_count": 21,
   "id": "f60c74cd",
   "metadata": {
    "ExecuteTime": {
     "end_time": "2023-04-02T15:40:36.818975Z",
     "start_time": "2023-04-02T15:40:36.804978Z"
    }
   },
   "outputs": [
    {
     "name": "stdout",
     "output_type": "stream",
     "text": [
      "Коэффициент a (пересечение искомой линии, описывающей взаимосвязь X и Y, с осью OY) =  59.074\n"
     ]
    }
   ],
   "source": [
    "a = df['mu_y'][0] - df['mu_x'][0] * b\n",
    "print('Коэффициент a (пересечение искомой линии, описывающей взаимосвязь X и Y, с осью OY) = ', round(a, 3))"
   ]
  },
  {
   "cell_type": "code",
   "execution_count": 22,
   "id": "73b14c2f",
   "metadata": {
    "ExecuteTime": {
     "end_time": "2023-04-02T15:40:36.834974Z",
     "start_time": "2023-04-02T15:40:36.820976Z"
    }
   },
   "outputs": [],
   "source": [
    "# добавим ряд прогнозов, полученных после расчета коэффициентов парной регрессии\n",
    "\n",
    "df['Y прогноз'] = a + df['X'] * b"
   ]
  },
  {
   "cell_type": "code",
   "execution_count": 23,
   "id": "7e478cb1",
   "metadata": {
    "ExecuteTime": {
     "end_time": "2023-04-02T15:40:36.946977Z",
     "start_time": "2023-04-02T15:40:36.837976Z"
    }
   },
   "outputs": [
    {
     "data": {
      "image/png": "[encoded data removed]",
      "text/plain": [
       "<Figure size 432x288 with 1 Axes>"
      ]
     },
     "metadata": {
      "needs_background": "light"
     },
     "output_type": "display_data"
    }
   ],
   "source": [
    "# например\n",
    "\n",
    "plt.scatter(df['X'], df['Y'])\n",
    "plt.plot(df['X'], df['Y прогноз'], color = 'green')\n",
    "plt.xlabel('Стоимость кв. м. (в 10_000 руб.)')\n",
    "plt.ylabel('Рейтинг');"
   ]
  },
  {
   "cell_type": "markdown",
   "id": "54862da5",
   "metadata": {},
   "source": [
    "**Упражнение**\n",
    "\n",
    "1. Попробуйте убрать регионы с высокой стоимостью квадратного метра (например, выше 200 000 руб.) и повторите расчет. \n",
    "- какие регионы были убраны?\n",
    "- как изменились коэффициенты?\n",
    "\n",
    "2. Попробуйте самостоятельно выбрать пару других показателей, построить линейную зависимость (парную регрессию) и проинтерпретировать результат. Сходится ли он с вашими ожиданиями?"
   ]
  },
  {
   "cell_type": "markdown",
   "id": "603dd110",
   "metadata": {},
   "source": [
    "**Примечание**\n",
    "\n",
    "Ранее было сказано, что \n",
    "$$\n",
    "    b = \\frac{\\sum{(x-M_x)(y-M_y)}}{\\sum{(x-M_x)^2}}\n",
    "$$<br>это фактически означает:\n",
    "$$\n",
    "    b = \\frac{cov{x, y}}{Var(x)} = \\rho * \\sqrt{\\frac{Var(y)}{Var(x)}} \n",
    "$$<br>\n",
    "\n",
    "Для парной регрессии знак корреляции совпадает со знаком коэффициента b, но значения этих величин (*b* и $\\rho$) равны между собой лишь в случае $ Var(y) = Var(x) $"
   ]
  },
  {
   "cell_type": "code",
   "execution_count": 24,
   "id": "2e5bf1ea",
   "metadata": {
    "ExecuteTime": {
     "end_time": "2023-04-02T15:40:36.962976Z",
     "start_time": "2023-04-02T15:40:36.949981Z"
    }
   },
   "outputs": [
    {
     "name": "stdout",
     "output_type": "stream",
     "text": [
      "-2.129 -2.129 -2.129\n"
     ]
    }
   ],
   "source": [
    "cov_matrix_x_y = df[['X', 'Y']].cov()\n",
    "covariance_x_y = cov_matrix_x_y.loc['Y', 'X']\n",
    "var_x = cov_matrix_x_y.loc['X', 'X']\n",
    "var_y = cov_matrix_x_y.loc['Y', 'Y']\n",
    "corr_x_y = df[['Y', 'X']].corr().loc['X', 'Y']\n",
    "\n",
    "b_check1 = covariance_x_y / var_x\n",
    "\n",
    "b_check2 = corr_x_y * np.sqrt(var_y / var_x)\n",
    "\n",
    "print(round(b, 3), round(b_check1, 3), round(b_check2, 3))"
   ]
  }
 ],
 "metadata": {
  "kernelspec": {
   "display_name": "Python 3 (ipykernel)",
   "language": "python",
   "name": "python3"
  },
  "language_info": {
   "codemirror_mode": {
    "name": "ipython",
    "version": 3
   },
   "file_extension": ".py",
   "mimetype": "text/x-python",
   "name": "python",
   "nbconvert_exporter": "python",
   "pygments_lexer": "ipython3",
   "version": "3.9.7"
  },
  "toc": {
   "base_numbering": 1,
   "nav_menu": {},
   "number_sections": true,
   "sideBar": true,
   "skip_h1_title": false,
   "title_cell": "Table of Contents",
   "title_sidebar": "Contents",
   "toc_cell": false,
   "toc_position": {},
   "toc_section_display": true,
   "toc_window_display": false
  },
  "varInspector": {
   "cols": {
    "lenName": 16,
    "lenType": 16,
    "lenVar": 40
   },
   "kernels_config": {
    "python": {
     "delete_cmd_postfix": "",
     "delete_cmd_prefix": "del ",
     "library": "var_list.py",
     "varRefreshCmd": "print(var_dic_list())"
    },
    "r": {
     "delete_cmd_postfix": ") ",
     "delete_cmd_prefix": "rm(",
     "library": "var_list.r",
     "varRefreshCmd": "cat(var_dic_list()) "
    }
   },
   "types_to_exclude": [
    "module",
    "function",
    "builtin_function_or_method",
    "instance",
    "_Feature"
   ],
   "window_display": false
  }
 },
 "nbformat": 4,
 "nbformat_minor": 5
}
