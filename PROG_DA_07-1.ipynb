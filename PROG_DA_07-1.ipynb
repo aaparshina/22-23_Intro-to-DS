{
 "cells": [
  {
   "cell_type": "markdown",
   "metadata": {
    "id": "UkXf9fyatJhc"
   },
   "source": [
    "# Семинар 9. Проверка гипотез: непараметрические критерии"
   ]
  },
  {
   "cell_type": "markdown",
   "metadata": {},
   "source": [
    "*Где используется проверка гипотез?*\n",
    "\n",
    " * в медицине для изучения эффективности клинических испытаний\n",
    " * маркетологами, менеджерами, дизайнерами при A/B тестировании\n",
    " * в машинном обучении для отбора признаков\n",
    " * в курсах по математической статистике и анализу данных"
   ]
  },
  {
   "cell_type": "markdown",
   "metadata": {},
   "source": [
    "*Теперь давайте вспомним!*"
   ]
  },
  {
   "cell_type": "markdown",
   "metadata": {},
   "source": [
    "**Статистическая гипотеза** — это определённое предположение о распределении вероятностей, лежащем в основе наблюдаемой выборки данных."
   ]
  },
  {
   "cell_type": "markdown",
   "metadata": {
    "id": "7ViK9OjJXOPL"
   },
   "source": [
    "План на сегодняшний семинар:\n",
    "\n",
    "* Повторить суть непараметрического оценивания\n",
    "* Таблица сопряженности и хи-квадрат\n",
    "* Критерий Манна-Уитни\n",
    "* Критерий Уилкоксона\n",
    "* Критерий Знаков"
   ]
  },
  {
   "cell_type": "markdown",
   "metadata": {},
   "source": [
    "**Проверка статистической гипотезы** — это процесс принятия решения о том, противоречит ли рассматриваемая статистическая гипотеза наблюдаемой выборке данных."
   ]
  },
  {
   "cell_type": "markdown",
   "metadata": {},
   "source": [
    "**Статистический тест или  критерий** — строгое математическое правило, по которому принимается или отвергается статистическая гипотеза."
   ]
  },
  {
   "cell_type": "markdown",
   "metadata": {},
   "source": [
    "Если гипотез всего две, то одну из них принято называть основной, а другую — альтернативой, или отклонением от основной гипотезы.\n",
    "\n",
    "$$ H_0 - \\textit{основная гипотеза}$$ \n",
    "$$ H_a - \\textit{альтернативная гипотеза}$$"
   ]
  },
  {
   "cell_type": "markdown",
   "metadata": {},
   "source": [
    "\n",
    "\n",
    "Типы гипотез:\n",
    "\n",
    "* Выбор из нескольких простых гипотез:\n",
    "\n",
    "$$ H_1: \\{F = F_1\\} $$\n",
    "$$ H_2: \\{F = F_2\\} $$\n",
    "\n",
    "* Простая основная гипотеза и сложная альтернатива:\n",
    "\n",
    "$$ H_1: \\{F = F_1\\} $$\n",
    "$$ H_2: \\{F \\neq F_1\\} $$\n",
    "\n",
    "* Сложная основная гипотеза и сложная альтернатива:\n",
    "\n",
    "$$ H_1: \\{F \\in \\mathbb{F}\\} $$\n",
    "$$ H_2: \\{F \\notin \\mathbb{F}\\} $$\n",
    "\n",
    "* а также гипотезы однородности, независимости и случайности выборок"
   ]
  },
  {
   "cell_type": "markdown",
   "metadata": {},
   "source": [
    "**Важно помнить:**\n",
    "\n",
    "* Статистический тест не отвечает на вопрос, верна ли гипотеза, а выясняет противоречат ли имеющиеся данные выдвинутой гипотезе.\n",
    "\n",
    "* Вывод «данные противоречат гипотезе» всегда весомее, чем вывод «данные не противоречат гипотезе»"
   ]
  },
  {
   "cell_type": "code",
   "execution_count": null,
   "metadata": {
    "id": "uvJRt8fgRtEo"
   },
   "outputs": [],
   "source": [
    "#подгружаем все необходимые библиотеки\n",
    "import numpy as np\n",
    "import pandas as pd\n",
    "import statsmodels as sm\n",
    "from scipy import stats\n",
    "import warnings\n",
    "warnings.filterwarnings('ignore')"
   ]
  },
  {
   "cell_type": "markdown",
   "metadata": {
    "id": "IjAkNPzMG4lB"
   },
   "source": [
    "## Критерий согласия хи-квадрат"
   ]
  },
  {
   "cell_type": "markdown",
   "metadata": {
    "id": "L0Aq_g7rOOfS"
   },
   "source": [
    "При анализе данных у нас может возникать вопрос о том, как наши наблюдения распределены по каким-то категориям. Например, на сколько больше студентов на коммерции по сравнению с бюджетниками на двух разных факультетах? Или как соотносятся пропорции сдавших и несдавших экзамен по Python в разных группах?\n",
    "При такой постановке вопроса нас не интересуют какие-то количественные характеристики для конкретного объекта или выборки в целом: нас интересует только принадлежность объекта к той или иной группе. И в таком случае, когда нас в первую очередь интересует соотношение пропорций в генеральной совокупности, мы будем использовать критерий согласия хи-квадрат."
   ]
  },
  {
   "cell_type": "markdown",
   "metadata": {
    "id": "nPEN4uy1QTs2"
   },
   "source": [
    "Данный критерий реализован с помощью функции chisquare в модуле stats:\n",
    "    \n",
    "* **stats.chisquare(obs, exp)** \n",
    "\n",
    "В эту функцию мы передаем два аргумента:\n",
    "\n",
    "* obs — фактическая частота попадания в ту или иную подгруппу\n",
    "* exp — ожидаемая частота."
   ]
  },
  {
   "cell_type": "markdown",
   "metadata": {
    "id": "tokFTPtyQ090"
   },
   "source": [
    "Возможно, вы знакомы с Менделем и его экспериментами с селекцией гороха: эта история отлично подойдет для иллюстрации применения критерия согласия хи-квадрат. \n",
    "\n",
    "Краткий экскурс в тему: Мендель вывел теоретический закон распределения частот видов семян, и в 20-м веке было огромное количество исследований, которые основывались на проверке близости этого закона к реальной жизни как раз с помощью критерия согласия хи-квадрата. История была столь популярна, что на ее тему написал статьи даже известный математик - академик Колмогоров.\n",
    "\n",
    "Давайте и мы проверим, что там происходило с горохом!"
   ]
  },
  {
   "cell_type": "markdown",
   "metadata": {
    "id": "jDeEC-z9P4i_"
   },
   "source": [
    "В экспериментах с селекцией гороха Мендель наблюдал частоты различных видов семян, получаемых при скрещивании растений с круглыми желтыми семенами и растений с морщинистыми зелеными семенами. Эти данные и значения теоретических вероятностей, определяемые в соответствии с законом Менделя, приведены в следующей таблице:\n",
    "\n",
    "| Тип семян            | Частота | Вероятность |\n",
    "|:-------------------- |:-------:| -----------:|\n",
    "| Круглые и желтые     | 315/556 | 9/16        |\n",
    "| Морщинистые и желтые | 101/556 | 3/16        |\n",
    "| Круглые и зеленые    | 108/556 | 3/16        |\n",
    "| Морщинистые и зеленые| 32/556  | 1/16        |\n",
    "\n",
    "Необходимо проверить гипотезу $H_0$ о согласованности частот с теоретическими вероятностями при помощи критерия хи-квадрат."
   ]
  },
  {
   "cell_type": "code",
   "execution_count": null,
   "metadata": {
    "id": "AE0LTU5VQIw1"
   },
   "outputs": [],
   "source": [
    "# создаем массивы с реальными частотами (точнее, долями) и с теоретическими вероятностями\n",
    "obs = np.array([315/556, 101/556, 108/556, 32/556]) #реальные доли - левый столбец в таблице\n",
    "exp = np.array([9/16, 3/16, 3/16, 1/16]) #теоретические вероятности - правый столбец в таблице"
   ]
  },
  {
   "cell_type": "markdown",
   "metadata": {
    "id": "K0uCV8pXS5Ea"
   },
   "source": [
    "Ранее мы посмотрели, что в функцию для реализации критерия согласия мы передаем фактические частоты, а у нас только доли. Чтобы получить из них частоты, мы умножим каждую долю на общее количество семян:"
   ]
  },
  {
   "cell_type": "code",
   "execution_count": null,
   "metadata": {
    "id": "UPQvT8mtQLAD"
   },
   "outputs": [],
   "source": [
    "obs = obs*556 #рассчитали реальные частоты\n",
    "exp = exp*556 #рассчитали ожидаемые частоты"
   ]
  },
  {
   "cell_type": "code",
   "execution_count": null,
   "metadata": {
    "id": "oKxDXtUyQM2j"
   },
   "outputs": [],
   "source": [
    "# запускаем функцию для критерия хи-квадрат\n",
    "stats.chisquare(obs, exp) "
   ]
  },
  {
   "cell_type": "markdown",
   "metadata": {
    "id": "DW3qSXAMTclc"
   },
   "source": [
    "Мы видим, что у нас получилось очень большое значение p-value: оно свидетельствует о том, что мы не отвергаем нулевую гипотезу. Значит, закон Менделя работает!"
   ]
  },
  {
   "cell_type": "markdown",
   "metadata": {
    "id": "9TYL3R1QUcfj"
   },
   "source": [
    "## Задача 1"
   ]
  },
  {
   "cell_type": "markdown",
   "metadata": {
    "id": "bzIREq1LVPk7"
   },
   "source": [
    "У некоторого преподавателя НИУ ВШЭ есть предположение, что 25% студентов сдают ДЗ заранее, 60% в последний момент, а 15% вовсе забывают о домашнем задании. После первого ДЗ на курсе \"Введение в Data Science\" было выявлено, что из 330 студентов 60 сдали ДЗ заранее, 200 в последний момент, а 70 - вовсе забыли о ДЗ. Проверьте гипотезу о том, что предположение преподавателя о теоретическом распределении вероятностей верное."
   ]
  },
  {
   "cell_type": "code",
   "execution_count": null,
   "metadata": {
    "id": "e5yWfGDRVRUG"
   },
   "outputs": [],
   "source": [
    "#YOUR CODE"
   ]
  },
  {
   "cell_type": "markdown",
   "metadata": {
    "id": "zZ2yvk8pT8HN"
   },
   "source": [
    "# Критерий независимости хи-квадрат Пирсона (критерий независимости номинальных признаков Пирсона)"
   ]
  },
  {
   "cell_type": "markdown",
   "metadata": {
    "id": "4R-X063ZVWCm"
   },
   "source": [
    "Еще один критерий - критерий независимости хи-квадрат Пирсона - нужен нам для того, чтобы проверять наличие взаимосвязи между двумя признаками."
   ]
  },
  {
   "cell_type": "markdown",
   "metadata": {
    "id": "pkoPKKkkY-9N"
   },
   "source": [
    "Пусть у нас есть пациенты, которых проверяли на предмет наличия сердечных заболеваний. И мы хотим проверить, есть ли взаимосвязь у пола пациента и наличия у него заболевания. Нулевая гипотеза заключается в том, что признаки независимы.\n",
    "* Пол записан в признаке sex (1-мужчины, 0-женщины)\n",
    "* Наличие заболевания записано в признаке target (1 - заболевание обнаружено, 0 - нет)"
   ]
  },
  {
   "cell_type": "code",
   "execution_count": null,
   "metadata": {
    "id": "aq1sDM6SsRMI"
   },
   "outputs": [],
   "source": [
    "df = pd.read_csv('heart.csv')\n",
    "df.head()"
   ]
  },
  {
   "cell_type": "markdown",
   "metadata": {
    "id": "adVpn4NXZsDB"
   },
   "source": [
    "В первую очередь построим таблицу сопряженности:"
   ]
  },
  {
   "cell_type": "code",
   "execution_count": null,
   "metadata": {
    "id": "2tl8kB9YsVma"
   },
   "outputs": [],
   "source": [
    "t = df.groupby('sex')['target'].value_counts().unstack()\n",
    "t"
   ]
  },
  {
   "cell_type": "markdown",
   "metadata": {
    "id": "jv_i6zcwaCWM"
   },
   "source": [
    "Теперь рассчитаем суммарное количество здоровых и больных, а также общую сумму:"
   ]
  },
  {
   "cell_type": "code",
   "execution_count": null,
   "metadata": {
    "id": "RJOAo4gTaIs7"
   },
   "outputs": [],
   "source": [
    "n_0 = t[0].sum()\n",
    "n_1 = t[1].sum()\n",
    "n_sum = n_0 + n_1\n",
    "print(n_0, n_1, n_sum)"
   ]
  },
  {
   "cell_type": "markdown",
   "metadata": {
    "id": "j6zd9Nlfaw2X"
   },
   "source": [
    "Рассчитаем доли:"
   ]
  },
  {
   "cell_type": "code",
   "execution_count": null,
   "metadata": {
    "id": "mJ07HcQwbFLO"
   },
   "outputs": [],
   "source": [
    "p_0 = n_0 / n_sum\n",
    "p_1 = n_1 / n_sum\n",
    "print(p_0, p_1)"
   ]
  },
  {
   "cell_type": "markdown",
   "metadata": {
    "id": "5OjYDXPS9TRl"
   },
   "source": [
    "Рассчитаем суммарное количество мужчин и женщин:"
   ]
  },
  {
   "cell_type": "code",
   "execution_count": null,
   "metadata": {
    "id": "wQpYZbTq9TRm"
   },
   "outputs": [],
   "source": [
    "n_w = t.iloc[0].sum()\n",
    "n_m = t.iloc[1].sum()\n",
    "print(n_w, n_m)"
   ]
  },
  {
   "cell_type": "markdown",
   "metadata": {
    "id": "UERk44lQ9TRm"
   },
   "source": [
    "Рассчитываем ожидаемые в случае независимости признаков частоты для мужчин (здоровых и больных) и для женщин (здоровых и больных):"
   ]
  },
  {
   "cell_type": "code",
   "execution_count": null,
   "metadata": {
    "id": "KX7DXJ-A9TRn"
   },
   "outputs": [],
   "source": [
    "e0_women = n_w * p_0\n",
    "e1_women = n_w * p_1\n",
    "e0_men = n_m * p_0\n",
    "e1_men = n_m * p_1"
   ]
  },
  {
   "cell_type": "code",
   "execution_count": null,
   "metadata": {
    "id": "UEeTOwEH9TRn"
   },
   "outputs": [],
   "source": [
    "print(e0_women, e1_women, e0_men, e1_men)"
   ]
  },
  {
   "cell_type": "markdown",
   "metadata": {
    "id": "J6lrnPvB9TRo"
   },
   "source": [
    "Составим таблицу ожидаемых частот:"
   ]
  },
  {
   "cell_type": "code",
   "execution_count": null,
   "metadata": {
    "id": "k7KG_mkg9TRo"
   },
   "outputs": [],
   "source": [
    "t_e = np.array([[e0_women, e1_women], [e0_men, e1_men]])\n",
    "t_e"
   ]
  },
  {
   "cell_type": "markdown",
   "metadata": {
    "id": "6-QB_Bcu9TRo"
   },
   "source": [
    "Рассчитываем значение статистики:"
   ]
  },
  {
   "cell_type": "markdown",
   "metadata": {
    "id": "BFAOB9__9TRp"
   },
   "source": [
    "$\n",
    "\\chi^2 = \\sum{\\frac{(f_o - f_e)^2}{f_e}}\n",
    "$"
   ]
  },
  {
   "cell_type": "markdown",
   "metadata": {
    "id": "wHRs0RAG9TRp"
   },
   "source": [
    "В данной формуле $f_o$ - это наблюдаемые частоты, а $f_e$ - ожидаемые частоты"
   ]
  },
  {
   "cell_type": "code",
   "execution_count": null,
   "metadata": {
    "id": "bfTBIE0R9TRq"
   },
   "outputs": [],
   "source": [
    "chi_square = ((t - t_e)**2/t_e).sum().sum() #суммируем сначала по полу, потом в целом\n",
    "print(chi_square)"
   ]
  },
  {
   "cell_type": "markdown",
   "metadata": {
    "id": "vkppVBKO9TRq"
   },
   "source": [
    "Рассчитаем значение количества степей свободы:"
   ]
  },
  {
   "cell_type": "markdown",
   "metadata": {
    "id": "V9TCA4iY9TRq"
   },
   "source": [
    "$\n",
    "dof = (R - 1)(C - 1)\n",
    "$"
   ]
  },
  {
   "cell_type": "markdown",
   "metadata": {
    "id": "2LoCmEJT9TRq"
   },
   "source": [
    "В формуле R - количество строк нашей таблицы, а C - количество столбцов."
   ]
  },
  {
   "cell_type": "code",
   "execution_count": null,
   "metadata": {
    "id": "vSJRA_L19TRr"
   },
   "outputs": [],
   "source": [
    "dof = (t.shape[0] - 1) * (t.shape[1] - 1)\n",
    "dof"
   ]
  },
  {
   "cell_type": "markdown",
   "metadata": {
    "id": "v_v_mEeC9TRr"
   },
   "source": [
    "_Примечание: количество степеней свободы - это количество значений в итоговом вычислении статистики, способных варьироваться. Смысл в том, что при разном значении степеней свободы будет меняться форма распределения статистик хи-квадрат. А значит и значения критерия, отсекающие определенную пропорцию распределения, будут варьироваться.(с)_"
   ]
  },
  {
   "cell_type": "code",
   "execution_count": null,
   "metadata": {
    "id": "vtfM6abQ9TRr"
   },
   "outputs": [],
   "source": [
    "pvalue = 1-stats.chi2.cdf(chi_square, df=1)\n",
    "print(pvalue)"
   ]
  },
  {
   "cell_type": "markdown",
   "metadata": {
    "id": "R55zZLys9TRr"
   },
   "source": [
    "Можно было бы рассчитать и автоматически:"
   ]
  },
  {
   "cell_type": "code",
   "execution_count": null,
   "metadata": {
    "id": "5-C1dUFO9TRs"
   },
   "outputs": [],
   "source": [
    "stats.chi2_contingency(t, correction=False)"
   ]
  },
  {
   "cell_type": "markdown",
   "metadata": {
    "id": "Gu2TtWew9TRs"
   },
   "source": [
    "Время решить задачу самостоятельно! (ну почти)"
   ]
  },
  {
   "cell_type": "markdown",
   "metadata": {
    "id": "og2-eQGM9TRs"
   },
   "source": [
    "## Задача 2 (парадокс Симпсона)"
   ]
  },
  {
   "cell_type": "markdown",
   "metadata": {
    "id": "1twGW3mpSie-"
   },
   "source": [
    "Не забывайте, что мы должны не только уметь применять функции из библиотек, но еще надо понимать, какие действия с данными корректны, а какие нет.\n",
    "\n",
    "Перед вами результаты медицинских исследований. Из 1650 мужчин, испытывающих лекарство, выздоровели 770, из 223 не принимавших выздоровели 88. Из 245 принимавших женщин — 165, из 750 не принимавших — 440.\n",
    "\n",
    "Необходимо проверить следующее:\n",
    "1. Влияет ли лекарство на мужчин?\n",
    "2. Влияет ли лекарство на женщин? \n",
    "3. Влияет ли лекарство на людей обоих полов в целом?"
   ]
  },
  {
   "cell_type": "markdown",
   "metadata": {
    "id": "c3JGG5fsSjDZ"
   },
   "source": [
    "Запишем данные в аккуратную табличку. Пусть $A$ — принимавшие лекарство, $\\overline{A}$ — не принимавшие лекарство, $B$ — выздоровевшие, $\\overline{B}$ — не выздоровевшие."
   ]
  },
  {
   "cell_type": "markdown",
   "metadata": {
    "id": "bWAP1UjbSl4F"
   },
   "source": [
    "<!--<img width=\"60%\" src=\"pics/pic2.png\">-->\n",
    "<table>\n",
    "<tr><td>\n",
    "    \n",
    "|Мужчины| $B$ |  $\\overline{B}$|\n",
    "|--|--|--|\n",
    "|$A$| 770 | 880 |\n",
    "|$\\overline{A}$| 88 | 135 |\n",
    "\n",
    "</td><td>\n",
    "    \n",
    "|Женщины| $B$ |  $\\overline{B}$|\n",
    "|--|--|--|\n",
    "|$A$| 165 | 80 |\n",
    "|$\\overline{A}$| 440 | 310 |\n",
    "\n",
    "</td><td>\n",
    "\n",
    "|Вместе| $B$ |  $\\overline{B}$|\n",
    "|--|--|--|\n",
    "|$A$| 935 | 960 |\n",
    "|$\\overline{A}$| 528 | 445 |\n",
    "\n",
    "</td></tr> </table>"
   ]
  },
  {
   "cell_type": "markdown",
   "metadata": {
    "id": "ZAyR-iIXTKTT"
   },
   "source": [
    "### Есть ли эффект от лекарства у мужчин? "
   ]
  },
  {
   "cell_type": "markdown",
   "metadata": {
    "id": "OzEyylXGTLMW"
   },
   "source": [
    "Заметим, что среди принимавших лекарство мужчин доля выздоровевших больше, чем среди мужчин, не принимавших лекарство:\n",
    "\n",
    "$$\\frac{770}{770 + 880} \\approx 0.467 \\qquad > \\qquad 0.395 \\approx \\frac{88}{88 + 135}.$$\n",
    "  \n",
    "Проверим, значимо ли это различие."
   ]
  },
  {
   "cell_type": "code",
   "execution_count": null,
   "metadata": {
    "id": "giZCoa7yTnUd"
   },
   "outputs": [],
   "source": [
    "#создаем массивы для наших данных \n",
    "\n",
    "men = np.array([[770,880],[88,135]]) #частоты для мужчин\n",
    "women = np.array([[165,80],[440,310]]) #частоты для женщин\n",
    "both = men + women #складываем частоты для женщин и для мужчин, чтобы получить суммарные частоты"
   ]
  },
  {
   "cell_type": "code",
   "execution_count": null,
   "metadata": {
    "id": "9as5SQMHTNMg",
    "scrolled": true
   },
   "outputs": [],
   "source": [
    "# можно реализовать критерий вручную \n",
    "\n",
    "n = np.sum(men) # количество испытуемых среди мужчин\n",
    "n1,n2 = np.sum(men,axis=1) # количество испытуемых, принимавших и не принимавших лекарство среди мужчин\n",
    "p = np.sum(men,axis=0)/n # вероятности попасть в (B) и (not B)\n",
    "exmen = np.array([p*n1,p*n2]) # ожидаемые количества в каждой ячейке\n",
    "\n",
    "statistic = np.sum((men - exmen)**2/exmen) #рассчитываем значение статистики\n",
    "pvalue = 1-stats.chi2.cdf(statistic, df=1) #значение p-value\n",
    "\n",
    "print(\"statistic = \", statistic)\n",
    "print(\"p-value = \", pvalue)"
   ]
  },
  {
   "cell_type": "code",
   "execution_count": null,
   "metadata": {
    "id": "M8KbRS5TbZWP"
   },
   "outputs": [],
   "source": [
    "stats.chi2_contingency(men, correction=False)"
   ]
  },
  {
   "cell_type": "markdown",
   "metadata": {
    "id": "RdsdAh0i9TRv"
   },
   "source": [
    "### Есть ли эффект от лекарства у женщин? "
   ]
  },
  {
   "cell_type": "code",
   "execution_count": null,
   "metadata": {
    "id": "eOd4obAt9TRv",
    "scrolled": true
   },
   "outputs": [],
   "source": [
    "#YOUR CODE\n"
   ]
  },
  {
   "cell_type": "markdown",
   "metadata": {
    "id": "NZI3z-AL9TRv"
   },
   "source": [
    "Для женщин соответствующие доли равны $0.673>0.587$ - среди принимавших лекарство доля выздоровевших больше, чем среди не принимавших лекарство, различия значимы."
   ]
  },
  {
   "cell_type": "markdown",
   "metadata": {
    "id": "muXDpaVlyuz8"
   },
   "source": [
    "### Есть ли эффект от лекарства у мужчин и женщин вместе? "
   ]
  },
  {
   "cell_type": "code",
   "execution_count": null,
   "metadata": {
    "id": "FwWLikWny23X"
   },
   "outputs": [],
   "source": [
    "# YOUR CODE\n"
   ]
  },
  {
   "cell_type": "markdown",
   "metadata": {
    "id": "YmtCZjShyzpO"
   },
   "source": [
    "Как это ни странно, из таблицы с объединенными результатами следует, что доля выздоровевших больше среди тех людей, которые лекарство **не принимали**:\n",
    "\n",
    "$$\\frac{935}{935+960} \\approx 0.493 \\qquad < \\qquad 0.542 \\approx \\frac{528}{528+445}.$$\n",
    "  "
   ]
  },
  {
   "cell_type": "markdown",
   "metadata": {
    "id": "WtyiiuXl7fE-"
   },
   "source": [
    "Может произойти такая ситуация, что новое лекарство может оказаться эффективным в каждом из отдельных исследований, на каждой отдельной группе, но объединение результатов укажет на то, что это лекарство либо бесполезно, либо вредно. Проблема здесь в том, что объединять эти выборки просто слив данные вместе нельзя: контрольные группы (не принимавших лекарство) занимают разный объем от выборок -- примерно 12% в случае мужчин и 75% в случае женщин."
   ]
  },
  {
   "cell_type": "markdown",
   "metadata": {
    "id": "u9kJ9VPKcQVr"
   },
   "source": [
    "# Критерий Манна-Уитни"
   ]
  },
  {
   "cell_type": "markdown",
   "metadata": {
    "id": "iWF8xE3O9TRx"
   },
   "source": [
    "U-критерий Манна-Уитни - это непараметрический статистический критерий, используемый для оценки различий между двумя выборками по признаку, измеренному в количественной или порядковой шкале. U-критерий является ранговым."
   ]
  },
  {
   "cell_type": "markdown",
   "metadata": {
    "id": "wH4vpYqn9TRx"
   },
   "source": [
    "**Выборки**    $X_1^{n1} = {X_{11} ... X_{1n_1}}$ и выборка $X_2^{n2} = {X_{21} ... X_{2n_2}}$ \n",
    "\n",
    "\n",
    "**Нулевая гипотеза**: $F_{X_1} = F_{X_2}$ - значения из выборок равномерно рассеяны в вариационном ряде.\n",
    "\n",
    "**Альтернативная гипотеза (двусторонняя альтернатива)**  $F_{X_1} \\not= F_{X_2}$ - значения в какой-то из выборок рассеяны в вариационном ряде неравномерно.\n",
    "\n",
    "\n",
    "**Статистика** Уложим обе наши выборки в один вариационный ряд. После чего подсчитаем сумму рангов, приходящуюся на элементы первой выборки ($R_1$) и на элементы  второй выборки ($R_2$). \n",
    "\n",
    "$$U_1 = n_1n_2 + \\dfrac{n_1(n_1+1)}{2} - R_1$$\n",
    "\n",
    "$$U_2 = n_1n_2 + \\dfrac{n_2(n_2+1)}{2} - R_2$$\n",
    "\n",
    "$$U = min(U_1, U_2)$$\n",
    "\n",
    "**Нулевое распределение** Табличное\n"
   ]
  },
  {
   "cell_type": "code",
   "execution_count": null,
   "metadata": {
    "id": "kgr6xQNt9TRx"
   },
   "outputs": [],
   "source": [
    "import matplotlib.pyplot as plt\n",
    "def two_histograms(x, y):\n",
    "    \"\"\"\n",
    "    Функция, которая построит две гистограммы на одной картинке.\n",
    "    Дополнительно пунктирными линиями указываются медианные значения выборок.\n",
    "    x: вектор pd.Series,\n",
    "    y: вектор pd.Series\n",
    "    \"\"\"\n",
    "    x.hist(alpha=0.5, weights=[1./len(x)]*len(x))\n",
    "    y.hist(alpha=0.5, weights=[1./len(y)]*len(y))\n",
    "    plt.axvline(x.median(), color='red', alpha=0.8, linestyle='dashed')\n",
    "    plt.axvline(y.median(), color='blue', alpha=0.8, linestyle='dashed')\n",
    "    plt.legend([x.name, y.name])"
   ]
  },
  {
   "cell_type": "markdown",
   "metadata": {
    "id": "OZPQauMq9TRy"
   },
   "source": [
    "Теперь давайте решим реальную задачку. "
   ]
  },
  {
   "cell_type": "code",
   "execution_count": null,
   "metadata": {
    "id": "Jcd09vUT9TRy"
   },
   "outputs": [],
   "source": [
    "df = pd.read_csv('Albuquerque Home Prices_data.txt', sep='\\t')"
   ]
  },
  {
   "cell_type": "code",
   "execution_count": null,
   "metadata": {
    "id": "i4J4KdiP9TRy"
   },
   "outputs": [],
   "source": [
    "df.head()"
   ]
  },
  {
   "cell_type": "markdown",
   "metadata": {
    "id": "KztXqo_B9TRz"
   },
   "source": [
    "Хотим проверить, что цены домов на углу (COR = 1) отличаются от цен домов не на углу (COR = 0). Мы хотели бы применить t-критерий Стьюдента, но, увы, данные не удовлетворяют предпосылкам.\n",
    "Также заметьте, что значение -9999 здесь употребляется в качестве пустого значения. Нужно заменить его на корректное пустое значение."
   ]
  },
  {
   "cell_type": "code",
   "execution_count": null,
   "metadata": {
    "id": "DhpUNrMI9TRz"
   },
   "outputs": [],
   "source": [
    "df = df.replace(-9999, np.nan)"
   ]
  },
  {
   "cell_type": "code",
   "execution_count": null,
   "metadata": {
    "id": "5NmuKNEi9TRz"
   },
   "outputs": [],
   "source": [
    "df.head()"
   ]
  },
  {
   "cell_type": "markdown",
   "metadata": {
    "id": "zM8EecLy9TRz"
   },
   "source": [
    "Сохраним в отдельные переменные выборки, которые собираемся сравнивать."
   ]
  },
  {
   "cell_type": "code",
   "execution_count": null,
   "metadata": {
    "id": "XVC8RSpp9TR0"
   },
   "outputs": [],
   "source": [
    "x = df[df['COR'] == 1]['PRICE']\n",
    "y = df[df['COR'] == 0]['PRICE']\n",
    "x.name, y.name = 'corner', 'not corner'"
   ]
  },
  {
   "cell_type": "code",
   "execution_count": null,
   "metadata": {
    "id": "wKnWP65Y9TR0"
   },
   "outputs": [],
   "source": [
    "res = stats.mannwhitneyu(x, y)\n",
    "print('p-value:', res[1])"
   ]
  },
  {
   "cell_type": "code",
   "execution_count": null,
   "metadata": {
    "id": "xnT3bPcs9TR0"
   },
   "outputs": [],
   "source": [
    "two_histograms(x, y)"
   ]
  },
  {
   "cell_type": "markdown",
   "metadata": {
    "id": "Or5BV-tU9TR0"
   },
   "source": [
    "## Задача 3"
   ]
  },
  {
   "cell_type": "markdown",
   "metadata": {
    "id": "_g-GUmRl9TR1"
   },
   "source": [
    "Проверьте, отличаются ли цены домов на северо-востоке от цен домов в других местах."
   ]
  },
  {
   "cell_type": "code",
   "execution_count": null,
   "metadata": {
    "id": "jGB788gm9TR1"
   },
   "outputs": [],
   "source": [
    "#YOUR CODE"
   ]
  },
  {
   "cell_type": "markdown",
   "metadata": {
    "id": "CgAtqxqecUN8"
   },
   "source": [
    "# Критерий Уилкоксона"
   ]
  },
  {
   "cell_type": "markdown",
   "metadata": {
    "id": "tjpLkk9O9TR1"
   },
   "source": [
    "Критерий Уилкоксона (Вилкоксона) для связных выборок — непараметрический статистический критерий, применяемый для оценки различий между двумя зависимыми выборками, взятыми из закона распределения, отличного от нормального, либо измеренными с использованием порядковой шкалы. Критерий является аналогом t-критерия Стьюдента для связанных выборок в тех случаях, когда предпосылки для применения t-критерия не выполняются."
   ]
  },
  {
   "cell_type": "markdown",
   "metadata": {
    "id": "tgGsuM4m9TR1"
   },
   "source": [
    "Обычно критерий Уилкоксона применяют для того, чтобы сравнить показатели до и после лечения, до обучения и после и т.д."
   ]
  },
  {
   "cell_type": "markdown",
   "metadata": {
    "id": "7_z62TL89TR2"
   },
   "source": [
    "**Выборки**    $X_1^{n1} = {X_{11} ... X_{1n_1}}$ и выборка $X_2^{n2} = {X_{21} ... X_{2n_2}}$ \n",
    "\n",
    "Важно, что выборки являются связными.\n",
    "\n",
    "\n",
    "**Нулевая гипотеза**    $H_0: P(X_1 > X_2) = \\frac{1}{2}$\n",
    "\n",
    "**Альтернативная гипотеза**     $H_1: P(X_1 > X_2) \\not= \\frac{1}{2}$ (Двусторонняя альтернатива)\n",
    "\n",
    "**Вычисление статистики критерия:**\n",
    "\n",
    "* Рассчитать значения разностей пар двух выборок. Нулевые разности далее не учитываются. N - количество ненулевых разностей.\n",
    "* Проранжировать модули разностей пар в возрастающем порядке.\n",
    "* Приписать рангам знаки соответствующих им разностей.\n",
    "* Рассчитать сумму R положительных рангов."
   ]
  },
  {
   "cell_type": "markdown",
   "metadata": {
    "id": "rEqf4OVt9TR2"
   },
   "source": [
    "Рассмотрим файл reaction.xls, где  содержатся времена реакции испытуемых на световой и звуковой сигналы соответственно. Необходимо проверить гипотезу однородности времен рекции на различные раздражители."
   ]
  },
  {
   "cell_type": "code",
   "execution_count": null,
   "metadata": {
    "id": "w-JqvGEj9TR2"
   },
   "outputs": [],
   "source": [
    "df = pd.read_excel('reaction.xls')\n",
    "df.head()"
   ]
  },
  {
   "cell_type": "code",
   "execution_count": null,
   "metadata": {
    "id": "5BqtApv79TR3"
   },
   "outputs": [],
   "source": [
    "sample1 = df['LIGHT']\n",
    "sample2 = df['SOUND']"
   ]
  },
  {
   "cell_type": "markdown",
   "metadata": {
    "id": "c2ex2_zO9TR3"
   },
   "source": [
    "В критерии Уикоксона есть предположение о нормальном распределении остатков. Для того, чтобы прикинуть, что это предположение выполнено, построим гистограмму для остатков:"
   ]
  },
  {
   "cell_type": "code",
   "execution_count": null,
   "metadata": {
    "id": "q56tJqp59TR3"
   },
   "outputs": [],
   "source": [
    "plt.figure(figsize=(6,4))\n",
    "plt.hist(sample1-sample2, bins=6)\n",
    "plt.show()"
   ]
  },
  {
   "cell_type": "code",
   "execution_count": null,
   "metadata": {
    "id": "RHLOrN6p9TR4"
   },
   "outputs": [],
   "source": [
    "stats.wilcoxon(sample1,sample2)"
   ]
  },
  {
   "cell_type": "code",
   "execution_count": null,
   "metadata": {
    "id": "Ti1S5ND09TR4"
   },
   "outputs": [],
   "source": [
    "stats.wilcoxon(sample1,sample2, alternative='less')"
   ]
  },
  {
   "cell_type": "code",
   "execution_count": null,
   "metadata": {
    "id": "ubb3jG0s9TR4"
   },
   "outputs": [],
   "source": [
    "stats.wilcoxon(sample1,sample2, alternative='greater')"
   ]
  },
  {
   "cell_type": "code",
   "execution_count": null,
   "metadata": {
    "id": "PImSRzzJ9TR5"
   },
   "outputs": [],
   "source": [
    "stats.mannwhitneyu(sample1,sample2, alternative='two-sided')"
   ]
  },
  {
   "cell_type": "markdown",
   "metadata": {
    "id": "dqM8KINP9TR5"
   },
   "source": [
    "## Задача 4"
   ]
  },
  {
   "cell_type": "markdown",
   "metadata": {
    "id": "97FlUUQg9TR5"
   },
   "source": [
    "Пусть у нас есть баллы студентов за пробный экзамен до посещения интенсива и после. Проверьте гипотезу, есть ли значимый прирост знаний благодаря посещению интенсива."
   ]
  },
  {
   "cell_type": "code",
   "execution_count": null,
   "metadata": {
    "id": "auEF46Hm9TR5"
   },
   "outputs": [],
   "source": [
    "st_before = [20, 23, 21, 25, 18, 17, 18, 24, 20, 24, 23, 19]\n",
    "st_after = [24, 25, 21, 22, 23, 18, 17, 28, 24, 27, 21, 23]"
   ]
  },
  {
   "cell_type": "markdown",
   "metadata": {
    "id": "WOknBliacWpD"
   },
   "source": [
    "# Критерий Знаков"
   ]
  },
  {
   "cell_type": "markdown",
   "metadata": {
    "id": "_soPUhlH9TR6"
   },
   "source": [
    "Критерий знаков  - это статистический критерий, позволяющий проверить нулевую гипотезу, что выборка подчиняется биномиальному распределению с параметром p=1/2. Критерий знаков можно использовать как непараметрический статистический критерий для проверки гипотезы равенства медианы заданному значению (в частности, нулю), а также отсутствия сдвига (отсутствия эффекта обработки) в двух связных выборках. "
   ]
  },
  {
   "cell_type": "markdown",
   "metadata": {
    "id": "XC9sbyIJ9TR6"
   },
   "source": [
    "**Выборка**    $X_n = {X_1 ... X_n}$ \n",
    "\n",
    "**Нулевая гипотеза**    $H_0: median(X) = M$\n",
    "\n",
    "**Альтернативная гипотеза**     $H_1: median(X) \\not= M$ (двусторонняя альтернатива)\n",
    "\n",
    "**Статистика** $T(X_n) = \\sum_i[X_i>M]$ Здесь $[]$- индикаторная функция (равна 1, если условие в скобках истинно и нулю в противном случае)\n",
    "\n",
    "**Нулевое распределение** $T \\sim Binomial(n,\\dfrac{1}{2})$"
   ]
  },
  {
   "cell_type": "code",
   "execution_count": null,
   "metadata": {
    "id": "MFL8G4GC9TR7"
   },
   "outputs": [],
   "source": [
    "from statsmodels.stats.descriptivestats import sign_test"
   ]
  },
  {
   "cell_type": "code",
   "execution_count": null,
   "metadata": {
    "id": "bkmPP3al9TR7"
   },
   "outputs": [],
   "source": [
    "sign_test(sample1-sample2)"
   ]
  },
  {
   "cell_type": "markdown",
   "metadata": {
    "id": "B0fhnjIs9TR7"
   },
   "source": [
    "## Задача 5"
   ]
  },
  {
   "cell_type": "markdown",
   "metadata": {
    "id": "jQ1CbnSy9TR7"
   },
   "source": [
    "В 2004 году проводился следующий эксперимент: 16 лабораторных мышей были помещены в двухкомнатные клетки, в одной из комнат висело зеркало. С целью установить, есть ли у мышей какие-то предпочтения насчет зеркал, измерялась доля времени, которое каждая мышь проводила в каждой из своих двух клеток. Проверьте гипотезу о том, что медиана доли времени, проведенного в клетке с зеркалом, равна 0.5. Данные в файле mirror_mouses.txt."
   ]
  },
  {
   "cell_type": "code",
   "execution_count": null,
   "metadata": {
    "id": "wk3yQuT69TR8"
   },
   "outputs": [],
   "source": [
    "#YOUR CODE"
   ]
  }
 ],
 "metadata": {
  "colab": {
   "name": "Sem7_chi_square.ipynb",
   "provenance": []
  },
  "kernelspec": {
   "display_name": "Python 3 (ipykernel)",
   "language": "python",
   "name": "python3"
  },
  "language_info": {
   "codemirror_mode": {
    "name": "ipython",
    "version": 3
   },
   "file_extension": ".py",
   "mimetype": "text/x-python",
   "name": "python",
   "nbconvert_exporter": "python",
   "pygments_lexer": "ipython3",
   "version": "3.9.13"
  }
 },
 "nbformat": 4,
 "nbformat_minor": 1
}
